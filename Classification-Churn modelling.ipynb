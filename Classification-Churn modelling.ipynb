{
 "cells": [
  {
   "cell_type": "markdown",
   "metadata": {
    "application/vnd.databricks.v1+cell": {
     "cellMetadata": {},
     "inputWidgets": {},
     "nuid": "5c9608da-225c-40dc-b0ef-2ee24d3ddcde",
     "showTitle": false,
     "title": ""
    }
   },
   "source": [
    "#Churn modelling\n",
    "Classification Model"
   ]
  },
  {
   "cell_type": "code",
   "execution_count": 0,
   "metadata": {
    "application/vnd.databricks.v1+cell": {
     "cellMetadata": {
      "byteLimit": 2048000,
      "rowLimit": 10000
     },
     "inputWidgets": {},
     "nuid": "4ce02aa1-3bd6-40c4-b99b-37bcfcf046dd",
     "showTitle": false,
     "title": ""
    }
   },
   "outputs": [
    {
     "output_type": "display_data",
     "data": {
      "text/html": [
       "<style scoped>\n",
       "  .ansiout {\n",
       "    display: block;\n",
       "    unicode-bidi: embed;\n",
       "    white-space: pre-wrap;\n",
       "    word-wrap: break-word;\n",
       "    word-break: break-all;\n",
       "    font-family: \"Source Code Pro\", \"Menlo\", monospace;;\n",
       "    font-size: 13px;\n",
       "    color: #555;\n",
       "    margin-left: 4px;\n",
       "    line-height: 19px;\n",
       "  }\n",
       "</style>\n",
       "<div class=\"ansiout\"></div>"
      ]
     },
     "metadata": {
      "application/vnd.databricks.v1+output": {
       "addedWidgets": {},
       "arguments": {},
       "data": "<div class=\"ansiout\"></div>",
       "datasetInfos": [],
       "metadata": {},
       "removedWidgets": [],
       "type": "html"
      }
     },
     "output_type": "display_data"
    }
   ],
   "source": [
    "#import libraries\n",
    "from pyspark.sql.functions import col, lower, lit, trim, when, size, countDistinct, datediff, to_date, to_timestamp, date_format, array_distinct\n",
    "import pyspark.sql.functions as F\n",
    "from pyspark.sql.window import Window\n",
    "import pandas as pd\n",
    "import numpy as np\n",
    "\n",
    "# visualisation \n",
    "import plotly.express as px\n",
    "import seaborn as sns\n",
    "import matplotlib.pyplot as plt\n",
    "import plotly.graph_objects as go\n",
    "\n",
    "#preprocessing\n",
    "from sklearn.preprocessing import LabelEncoder, OneHotEncoder\n",
    "from sklearn.preprocessing import StandardScaler\n",
    "from sklearn.model_selection import train_test_split\n",
    "\n",
    "#models\n",
    "from sklearn.linear_model import LogisticRegression \n",
    "from sklearn.ensemble import RandomForestClassifier\n",
    "\n",
    "#evaluation\n",
    "from sklearn.metrics import accuracy_score\n",
    "from sklearn.metrics import precision_score\n",
    "from sklearn.metrics import recall_score\n",
    "from sklearn.metrics import f1_score\n",
    "from sklearn.metrics import roc_auc_score\n",
    "from sklearn.metrics import classification_report, confusion_matrix\n",
    "\n",
    "\n",
    "#cross validation\n",
    "from sklearn.model_selection import cross_val_score\n",
    "from sklearn import metrics"
   ]
  },
  {
   "cell_type": "markdown",
   "metadata": {
    "application/vnd.databricks.v1+cell": {
     "cellMetadata": {},
     "inputWidgets": {},
     "nuid": "7b8e2536-fe21-4100-bf0a-ae0067390194",
     "showTitle": false,
     "title": ""
    }
   },
   "source": [
    "# EDA"
   ]
  },
  {
   "cell_type": "code",
   "execution_count": 0,
   "metadata": {
    "application/vnd.databricks.v1+cell": {
     "cellMetadata": {
      "byteLimit": 2048000,
      "rowLimit": 10000
     },
     "inputWidgets": {},
     "nuid": "acf163ea-00cd-47c7-9b53-b546e515658d",
     "showTitle": false,
     "title": ""
    }
   },
   "outputs": [
    {
     "output_type": "display_data",
     "data": {
      "text/html": [
       "<style scoped>\n",
       "  .ansiout {\n",
       "    display: block;\n",
       "    unicode-bidi: embed;\n",
       "    white-space: pre-wrap;\n",
       "    word-wrap: break-word;\n",
       "    word-break: break-all;\n",
       "    font-family: \"Source Code Pro\", \"Menlo\", monospace;;\n",
       "    font-size: 13px;\n",
       "    color: #555;\n",
       "    margin-left: 4px;\n",
       "    line-height: 19px;\n",
       "  }\n",
       "</style>\n",
       "<div class=\"ansiout\">Out[2]: </div>"
      ]
     },
     "metadata": {
      "application/vnd.databricks.v1+output": {
       "addedWidgets": {},
       "arguments": {},
       "data": "<div class=\"ansiout\">Out[2]: </div>",
       "datasetInfos": [],
       "metadata": {},
       "removedWidgets": [],
       "type": "html"
      }
     },
     "output_type": "display_data"
    },
    {
     "output_type": "display_data",
     "data": {
      "text/html": [
       "<div>\n",
       "<style scoped>\n",
       "    .dataframe tbody tr th:only-of-type {\n",
       "        vertical-align: middle;\n",
       "    }\n",
       "\n",
       "    .dataframe tbody tr th {\n",
       "        vertical-align: top;\n",
       "    }\n",
       "\n",
       "    .dataframe thead th {\n",
       "        text-align: right;\n",
       "    }\n",
       "</style>\n",
       "<table border=\"1\" class=\"dataframe\">\n",
       "  <thead>\n",
       "    <tr style=\"text-align: right;\">\n",
       "      <th></th>\n",
       "      <th>RowNumber</th>\n",
       "      <th>CustomerId</th>\n",
       "      <th>Surname</th>\n",
       "      <th>CreditScore</th>\n",
       "      <th>Geography</th>\n",
       "      <th>Gender</th>\n",
       "      <th>Age</th>\n",
       "      <th>Tenure</th>\n",
       "      <th>Balance</th>\n",
       "      <th>NumOfProducts</th>\n",
       "      <th>HasCrCard</th>\n",
       "      <th>IsActiveMember</th>\n",
       "      <th>EstimatedSalary</th>\n",
       "      <th>Exited</th>\n",
       "    </tr>\n",
       "  </thead>\n",
       "  <tbody>\n",
       "    <tr>\n",
       "      <th>0</th>\n",
       "      <td>1</td>\n",
       "      <td>15634602</td>\n",
       "      <td>Hargrave</td>\n",
       "      <td>619</td>\n",
       "      <td>France</td>\n",
       "      <td>Female</td>\n",
       "      <td>42</td>\n",
       "      <td>2</td>\n",
       "      <td>0.00</td>\n",
       "      <td>1</td>\n",
       "      <td>1</td>\n",
       "      <td>1</td>\n",
       "      <td>101348.88</td>\n",
       "      <td>1</td>\n",
       "    </tr>\n",
       "    <tr>\n",
       "      <th>1</th>\n",
       "      <td>2</td>\n",
       "      <td>15647311</td>\n",
       "      <td>Hill</td>\n",
       "      <td>608</td>\n",
       "      <td>Spain</td>\n",
       "      <td>Female</td>\n",
       "      <td>41</td>\n",
       "      <td>1</td>\n",
       "      <td>83807.86</td>\n",
       "      <td>1</td>\n",
       "      <td>0</td>\n",
       "      <td>1</td>\n",
       "      <td>112542.58</td>\n",
       "      <td>0</td>\n",
       "    </tr>\n",
       "    <tr>\n",
       "      <th>2</th>\n",
       "      <td>3</td>\n",
       "      <td>15619304</td>\n",
       "      <td>Onio</td>\n",
       "      <td>502</td>\n",
       "      <td>France</td>\n",
       "      <td>Female</td>\n",
       "      <td>42</td>\n",
       "      <td>8</td>\n",
       "      <td>159660.80</td>\n",
       "      <td>3</td>\n",
       "      <td>1</td>\n",
       "      <td>0</td>\n",
       "      <td>113931.57</td>\n",
       "      <td>1</td>\n",
       "    </tr>\n",
       "    <tr>\n",
       "      <th>3</th>\n",
       "      <td>4</td>\n",
       "      <td>15701354</td>\n",
       "      <td>Boni</td>\n",
       "      <td>699</td>\n",
       "      <td>France</td>\n",
       "      <td>Female</td>\n",
       "      <td>39</td>\n",
       "      <td>1</td>\n",
       "      <td>0.00</td>\n",
       "      <td>2</td>\n",
       "      <td>0</td>\n",
       "      <td>0</td>\n",
       "      <td>93826.63</td>\n",
       "      <td>0</td>\n",
       "    </tr>\n",
       "    <tr>\n",
       "      <th>4</th>\n",
       "      <td>5</td>\n",
       "      <td>15737888</td>\n",
       "      <td>Mitchell</td>\n",
       "      <td>850</td>\n",
       "      <td>Spain</td>\n",
       "      <td>Female</td>\n",
       "      <td>43</td>\n",
       "      <td>2</td>\n",
       "      <td>125510.82</td>\n",
       "      <td>1</td>\n",
       "      <td>1</td>\n",
       "      <td>1</td>\n",
       "      <td>79084.10</td>\n",
       "      <td>0</td>\n",
       "    </tr>\n",
       "  </tbody>\n",
       "</table>\n",
       "</div>"
      ]
     },
     "metadata": {
      "application/vnd.databricks.v1+output": {
       "addedWidgets": {},
       "arguments": {},
       "data": "<div>\n<style scoped>\n    .dataframe tbody tr th:only-of-type {\n        vertical-align: middle;\n    }\n\n    .dataframe tbody tr th {\n        vertical-align: top;\n    }\n\n    .dataframe thead th {\n        text-align: right;\n    }\n</style>\n<table border=\"1\" class=\"dataframe\">\n  <thead>\n    <tr style=\"text-align: right;\">\n      <th></th>\n      <th>RowNumber</th>\n      <th>CustomerId</th>\n      <th>Surname</th>\n      <th>CreditScore</th>\n      <th>Geography</th>\n      <th>Gender</th>\n      <th>Age</th>\n      <th>Tenure</th>\n      <th>Balance</th>\n      <th>NumOfProducts</th>\n      <th>HasCrCard</th>\n      <th>IsActiveMember</th>\n      <th>EstimatedSalary</th>\n      <th>Exited</th>\n    </tr>\n  </thead>\n  <tbody>\n    <tr>\n      <th>0</th>\n      <td>1</td>\n      <td>15634602</td>\n      <td>Hargrave</td>\n      <td>619</td>\n      <td>France</td>\n      <td>Female</td>\n      <td>42</td>\n      <td>2</td>\n      <td>0.00</td>\n      <td>1</td>\n      <td>1</td>\n      <td>1</td>\n      <td>101348.88</td>\n      <td>1</td>\n    </tr>\n    <tr>\n      <th>1</th>\n      <td>2</td>\n      <td>15647311</td>\n      <td>Hill</td>\n      <td>608</td>\n      <td>Spain</td>\n      <td>Female</td>\n      <td>41</td>\n      <td>1</td>\n      <td>83807.86</td>\n      <td>1</td>\n      <td>0</td>\n      <td>1</td>\n      <td>112542.58</td>\n      <td>0</td>\n    </tr>\n    <tr>\n      <th>2</th>\n      <td>3</td>\n      <td>15619304</td>\n      <td>Onio</td>\n      <td>502</td>\n      <td>France</td>\n      <td>Female</td>\n      <td>42</td>\n      <td>8</td>\n      <td>159660.80</td>\n      <td>3</td>\n      <td>1</td>\n      <td>0</td>\n      <td>113931.57</td>\n      <td>1</td>\n    </tr>\n    <tr>\n      <th>3</th>\n      <td>4</td>\n      <td>15701354</td>\n      <td>Boni</td>\n      <td>699</td>\n      <td>France</td>\n      <td>Female</td>\n      <td>39</td>\n      <td>1</td>\n      <td>0.00</td>\n      <td>2</td>\n      <td>0</td>\n      <td>0</td>\n      <td>93826.63</td>\n      <td>0</td>\n    </tr>\n    <tr>\n      <th>4</th>\n      <td>5</td>\n      <td>15737888</td>\n      <td>Mitchell</td>\n      <td>850</td>\n      <td>Spain</td>\n      <td>Female</td>\n      <td>43</td>\n      <td>2</td>\n      <td>125510.82</td>\n      <td>1</td>\n      <td>1</td>\n      <td>1</td>\n      <td>79084.10</td>\n      <td>0</td>\n    </tr>\n  </tbody>\n</table>\n</div>",
       "datasetInfos": [],
       "metadata": {},
       "removedWidgets": [],
       "textData": null,
       "type": "htmlSandbox"
      }
     },
     "output_type": "display_data"
    }
   ],
   "source": [
    "churn_df = (spark.table(\"feature_store_subeida.churn_modelling\"))\n",
    "churn_df_pd = churn_df.toPandas()\n",
    "churn_df_pd_copy = churn_df_pd.copy()\n",
    "churn_df_pd.head()"
   ]
  },
  {
   "cell_type": "code",
   "execution_count": 0,
   "metadata": {
    "application/vnd.databricks.v1+cell": {
     "cellMetadata": {
      "byteLimit": 2048000,
      "rowLimit": 10000
     },
     "inputWidgets": {},
     "nuid": "8021e3f0-f2a8-4009-81dc-26972bfe12e7",
     "showTitle": false,
     "title": ""
    }
   },
   "outputs": [
    {
     "output_type": "display_data",
     "data": {
      "text/html": [
       "<style scoped>\n",
       "  .ansiout {\n",
       "    display: block;\n",
       "    unicode-bidi: embed;\n",
       "    white-space: pre-wrap;\n",
       "    word-wrap: break-word;\n",
       "    word-break: break-all;\n",
       "    font-family: \"Source Code Pro\", \"Menlo\", monospace;;\n",
       "    font-size: 13px;\n",
       "    color: #555;\n",
       "    margin-left: 4px;\n",
       "    line-height: 19px;\n",
       "  }\n",
       "</style>\n",
       "<div class=\"ansiout\">&lt;class &#39;pandas.core.frame.DataFrame&#39;&gt;\n",
       "RangeIndex: 10000 entries, 0 to 9999\n",
       "Data columns (total 14 columns):\n",
       " #   Column           Non-Null Count  Dtype  \n",
       "---  ------           --------------  -----  \n",
       " 0   RowNumber        10000 non-null  int64  \n",
       " 1   CustomerId       10000 non-null  int64  \n",
       " 2   Surname          10000 non-null  object \n",
       " 3   CreditScore      10000 non-null  int64  \n",
       " 4   Geography        10000 non-null  object \n",
       " 5   Gender           10000 non-null  object \n",
       " 6   Age              10000 non-null  int64  \n",
       " 7   Tenure           10000 non-null  int64  \n",
       " 8   Balance          10000 non-null  float64\n",
       " 9   NumOfProducts    10000 non-null  int64  \n",
       " 10  HasCrCard        10000 non-null  int64  \n",
       " 11  IsActiveMember   10000 non-null  int64  \n",
       " 12  EstimatedSalary  10000 non-null  float64\n",
       " 13  Exited           10000 non-null  int64  \n",
       "dtypes: float64(2), int64(9), object(3)\n",
       "memory usage: 1.1+ MB\n",
       "</div>"
      ]
     },
     "metadata": {
      "application/vnd.databricks.v1+output": {
       "addedWidgets": {},
       "arguments": {},
       "data": "<div class=\"ansiout\">&lt;class &#39;pandas.core.frame.DataFrame&#39;&gt;\nRangeIndex: 10000 entries, 0 to 9999\nData columns (total 14 columns):\n #   Column           Non-Null Count  Dtype  \n---  ------           --------------  -----  \n 0   RowNumber        10000 non-null  int64  \n 1   CustomerId       10000 non-null  int64  \n 2   Surname          10000 non-null  object \n 3   CreditScore      10000 non-null  int64  \n 4   Geography        10000 non-null  object \n 5   Gender           10000 non-null  object \n 6   Age              10000 non-null  int64  \n 7   Tenure           10000 non-null  int64  \n 8   Balance          10000 non-null  float64\n 9   NumOfProducts    10000 non-null  int64  \n 10  HasCrCard        10000 non-null  int64  \n 11  IsActiveMember   10000 non-null  int64  \n 12  EstimatedSalary  10000 non-null  float64\n 13  Exited           10000 non-null  int64  \ndtypes: float64(2), int64(9), object(3)\nmemory usage: 1.1+ MB\n</div>",
       "datasetInfos": [],
       "metadata": {},
       "removedWidgets": [],
       "type": "html"
      }
     },
     "output_type": "display_data"
    }
   ],
   "source": [
    "churn_df_pd.info()"
   ]
  },
  {
   "cell_type": "code",
   "execution_count": 0,
   "metadata": {
    "application/vnd.databricks.v1+cell": {
     "cellMetadata": {
      "byteLimit": 2048000,
      "rowLimit": 10000
     },
     "inputWidgets": {},
     "nuid": "efc44dba-b5d9-443b-871c-9d783673db66",
     "showTitle": false,
     "title": ""
    }
   },
   "outputs": [
    {
     "output_type": "display_data",
     "data": {
      "text/html": [
       "<style scoped>\n",
       "  .ansiout {\n",
       "    display: block;\n",
       "    unicode-bidi: embed;\n",
       "    white-space: pre-wrap;\n",
       "    word-wrap: break-word;\n",
       "    word-break: break-all;\n",
       "    font-family: \"Source Code Pro\", \"Menlo\", monospace;;\n",
       "    font-size: 13px;\n",
       "    color: #555;\n",
       "    margin-left: 4px;\n",
       "    line-height: 19px;\n",
       "  }\n",
       "</style>\n",
       "<div class=\"ansiout\">Out[4]: RowNumber          0\n",
       "CustomerId         0\n",
       "Surname            0\n",
       "CreditScore        0\n",
       "Geography          0\n",
       "Gender             0\n",
       "Age                0\n",
       "Tenure             0\n",
       "Balance            0\n",
       "NumOfProducts      0\n",
       "HasCrCard          0\n",
       "IsActiveMember     0\n",
       "EstimatedSalary    0\n",
       "Exited             0\n",
       "dtype: int64</div>"
      ]
     },
     "metadata": {
      "application/vnd.databricks.v1+output": {
       "addedWidgets": {},
       "arguments": {},
       "data": "<div class=\"ansiout\">Out[4]: RowNumber          0\nCustomerId         0\nSurname            0\nCreditScore        0\nGeography          0\nGender             0\nAge                0\nTenure             0\nBalance            0\nNumOfProducts      0\nHasCrCard          0\nIsActiveMember     0\nEstimatedSalary    0\nExited             0\ndtype: int64</div>",
       "datasetInfos": [],
       "metadata": {},
       "removedWidgets": [],
       "type": "html"
      }
     },
     "output_type": "display_data"
    }
   ],
   "source": [
    "#checking for missing values\n",
    "churn_df_pd.isnull().sum()\n",
    "#no missing values in df"
   ]
  },
  {
   "cell_type": "code",
   "execution_count": 0,
   "metadata": {
    "application/vnd.databricks.v1+cell": {
     "cellMetadata": {
      "byteLimit": 2048000,
      "rowLimit": 10000
     },
     "inputWidgets": {},
     "nuid": "2fa53f68-4445-4f7f-ac13-6d229f5a4201",
     "showTitle": false,
     "title": ""
    }
   },
   "outputs": [
    {
     "output_type": "display_data",
     "data": {
      "text/html": [
       "<style scoped>\n",
       "  .ansiout {\n",
       "    display: block;\n",
       "    unicode-bidi: embed;\n",
       "    white-space: pre-wrap;\n",
       "    word-wrap: break-word;\n",
       "    word-break: break-all;\n",
       "    font-family: \"Source Code Pro\", \"Menlo\", monospace;;\n",
       "    font-size: 13px;\n",
       "    color: #555;\n",
       "    margin-left: 4px;\n",
       "    line-height: 19px;\n",
       "  }\n",
       "</style>\n",
       "<div class=\"ansiout\"></div>"
      ]
     },
     "metadata": {
      "application/vnd.databricks.v1+output": {
       "addedWidgets": {},
       "arguments": {},
       "data": "<div class=\"ansiout\"></div>",
       "datasetInfos": [],
       "metadata": {},
       "removedWidgets": [],
       "type": "html"
      }
     },
     "output_type": "display_data"
    }
   ],
   "source": [
    "#dropping irrelevant columns\n",
    "churn_df_pd = churn_df_pd.drop([\"RowNumber\", \"CustomerId\", \"Surname\"], axis = 1)"
   ]
  },
  {
   "cell_type": "code",
   "execution_count": 0,
   "metadata": {
    "application/vnd.databricks.v1+cell": {
     "cellMetadata": {
      "byteLimit": 2048000,
      "rowLimit": 10000
     },
     "inputWidgets": {},
     "nuid": "070d20f7-5d58-4f43-b3f1-fb4d6cc08101",
     "showTitle": false,
     "title": ""
    }
   },
   "outputs": [
    {
     "output_type": "display_data",
     "data": {
      "text/html": [
       "<style scoped>\n",
       "  .ansiout {\n",
       "    display: block;\n",
       "    unicode-bidi: embed;\n",
       "    white-space: pre-wrap;\n",
       "    word-wrap: break-word;\n",
       "    word-break: break-all;\n",
       "    font-family: \"Source Code Pro\", \"Menlo\", monospace;;\n",
       "    font-size: 13px;\n",
       "    color: #555;\n",
       "    margin-left: 4px;\n",
       "    line-height: 19px;\n",
       "  }\n",
       "</style>\n",
       "<div class=\"ansiout\">Out[6]: 0    0.7963\n",
       "1    0.2037\n",
       "Name: Exited, dtype: float64</div>"
      ]
     },
     "metadata": {
      "application/vnd.databricks.v1+output": {
       "addedWidgets": {},
       "arguments": {},
       "data": "<div class=\"ansiout\">Out[6]: 0    0.7963\n1    0.2037\nName: Exited, dtype: float64</div>",
       "datasetInfos": [],
       "metadata": {},
       "removedWidgets": [],
       "type": "html"
      }
     },
     "output_type": "display_data"
    }
   ],
   "source": [
    "churn_df_pd[\"Exited\"].value_counts(normalize = True)\n",
    "\n",
    "#Baseline here is 79% of customers not churning, so want accuracy in model to beat this. "
   ]
  },
  {
   "cell_type": "code",
   "execution_count": 0,
   "metadata": {
    "application/vnd.databricks.v1+cell": {
     "cellMetadata": {
      "byteLimit": 2048000,
      "rowLimit": 10000
     },
     "inputWidgets": {},
     "nuid": "00477500-e857-4a04-a2b1-0ac938881e40",
     "showTitle": false,
     "title": ""
    }
   },
   "outputs": [
    {
     "output_type": "display_data",
     "data": {
      "text/html": [
       "<style scoped>\n",
       "  .ansiout {\n",
       "    display: block;\n",
       "    unicode-bidi: embed;\n",
       "    white-space: pre-wrap;\n",
       "    word-wrap: break-word;\n",
       "    word-break: break-all;\n",
       "    font-family: \"Source Code Pro\", \"Menlo\", monospace;;\n",
       "    font-size: 13px;\n",
       "    color: #555;\n",
       "    margin-left: 4px;\n",
       "    line-height: 19px;\n",
       "  }\n",
       "</style>\n",
       "<div class=\"ansiout\">Out[7]: </div>"
      ]
     },
     "metadata": {
      "application/vnd.databricks.v1+output": {
       "addedWidgets": {},
       "arguments": {},
       "data": "<div class=\"ansiout\">Out[7]: </div>",
       "datasetInfos": [],
       "metadata": {},
       "removedWidgets": [],
       "type": "html"
      }
     },
     "output_type": "display_data"
    },
    {
     "output_type": "display_data",
     "data": {
      "text/html": [
       "<div>\n",
       "<style scoped>\n",
       "    .dataframe tbody tr th:only-of-type {\n",
       "        vertical-align: middle;\n",
       "    }\n",
       "\n",
       "    .dataframe tbody tr th {\n",
       "        vertical-align: top;\n",
       "    }\n",
       "\n",
       "    .dataframe thead th {\n",
       "        text-align: right;\n",
       "    }\n",
       "</style>\n",
       "<table border=\"1\" class=\"dataframe\">\n",
       "  <thead>\n",
       "    <tr style=\"text-align: right;\">\n",
       "      <th></th>\n",
       "      <th>CreditScore</th>\n",
       "      <th>Age</th>\n",
       "      <th>Tenure</th>\n",
       "      <th>Balance</th>\n",
       "      <th>NumOfProducts</th>\n",
       "      <th>HasCrCard</th>\n",
       "      <th>IsActiveMember</th>\n",
       "      <th>EstimatedSalary</th>\n",
       "      <th>Exited</th>\n",
       "    </tr>\n",
       "  </thead>\n",
       "  <tbody>\n",
       "    <tr>\n",
       "      <th>count</th>\n",
       "      <td>10000.000000</td>\n",
       "      <td>10000.000000</td>\n",
       "      <td>10000.000000</td>\n",
       "      <td>10000.000000</td>\n",
       "      <td>10000.000000</td>\n",
       "      <td>10000.00000</td>\n",
       "      <td>10000.000000</td>\n",
       "      <td>10000.000000</td>\n",
       "      <td>10000.000000</td>\n",
       "    </tr>\n",
       "    <tr>\n",
       "      <th>mean</th>\n",
       "      <td>650.528800</td>\n",
       "      <td>38.921800</td>\n",
       "      <td>5.012800</td>\n",
       "      <td>76485.889288</td>\n",
       "      <td>1.530200</td>\n",
       "      <td>0.70550</td>\n",
       "      <td>0.515100</td>\n",
       "      <td>100090.239881</td>\n",
       "      <td>0.203700</td>\n",
       "    </tr>\n",
       "    <tr>\n",
       "      <th>std</th>\n",
       "      <td>96.653299</td>\n",
       "      <td>10.487806</td>\n",
       "      <td>2.892174</td>\n",
       "      <td>62397.405202</td>\n",
       "      <td>0.581654</td>\n",
       "      <td>0.45584</td>\n",
       "      <td>0.499797</td>\n",
       "      <td>57510.492818</td>\n",
       "      <td>0.402769</td>\n",
       "    </tr>\n",
       "    <tr>\n",
       "      <th>min</th>\n",
       "      <td>350.000000</td>\n",
       "      <td>18.000000</td>\n",
       "      <td>0.000000</td>\n",
       "      <td>0.000000</td>\n",
       "      <td>1.000000</td>\n",
       "      <td>0.00000</td>\n",
       "      <td>0.000000</td>\n",
       "      <td>11.580000</td>\n",
       "      <td>0.000000</td>\n",
       "    </tr>\n",
       "    <tr>\n",
       "      <th>25%</th>\n",
       "      <td>584.000000</td>\n",
       "      <td>32.000000</td>\n",
       "      <td>3.000000</td>\n",
       "      <td>0.000000</td>\n",
       "      <td>1.000000</td>\n",
       "      <td>0.00000</td>\n",
       "      <td>0.000000</td>\n",
       "      <td>51002.110000</td>\n",
       "      <td>0.000000</td>\n",
       "    </tr>\n",
       "    <tr>\n",
       "      <th>50%</th>\n",
       "      <td>652.000000</td>\n",
       "      <td>37.000000</td>\n",
       "      <td>5.000000</td>\n",
       "      <td>97198.540000</td>\n",
       "      <td>1.000000</td>\n",
       "      <td>1.00000</td>\n",
       "      <td>1.000000</td>\n",
       "      <td>100193.915000</td>\n",
       "      <td>0.000000</td>\n",
       "    </tr>\n",
       "    <tr>\n",
       "      <th>75%</th>\n",
       "      <td>718.000000</td>\n",
       "      <td>44.000000</td>\n",
       "      <td>7.000000</td>\n",
       "      <td>127644.240000</td>\n",
       "      <td>2.000000</td>\n",
       "      <td>1.00000</td>\n",
       "      <td>1.000000</td>\n",
       "      <td>149388.247500</td>\n",
       "      <td>0.000000</td>\n",
       "    </tr>\n",
       "    <tr>\n",
       "      <th>max</th>\n",
       "      <td>850.000000</td>\n",
       "      <td>92.000000</td>\n",
       "      <td>10.000000</td>\n",
       "      <td>250898.090000</td>\n",
       "      <td>4.000000</td>\n",
       "      <td>1.00000</td>\n",
       "      <td>1.000000</td>\n",
       "      <td>199992.480000</td>\n",
       "      <td>1.000000</td>\n",
       "    </tr>\n",
       "  </tbody>\n",
       "</table>\n",
       "</div>"
      ]
     },
     "metadata": {
      "application/vnd.databricks.v1+output": {
       "addedWidgets": {},
       "arguments": {},
       "data": "<div>\n<style scoped>\n    .dataframe tbody tr th:only-of-type {\n        vertical-align: middle;\n    }\n\n    .dataframe tbody tr th {\n        vertical-align: top;\n    }\n\n    .dataframe thead th {\n        text-align: right;\n    }\n</style>\n<table border=\"1\" class=\"dataframe\">\n  <thead>\n    <tr style=\"text-align: right;\">\n      <th></th>\n      <th>CreditScore</th>\n      <th>Age</th>\n      <th>Tenure</th>\n      <th>Balance</th>\n      <th>NumOfProducts</th>\n      <th>HasCrCard</th>\n      <th>IsActiveMember</th>\n      <th>EstimatedSalary</th>\n      <th>Exited</th>\n    </tr>\n  </thead>\n  <tbody>\n    <tr>\n      <th>count</th>\n      <td>10000.000000</td>\n      <td>10000.000000</td>\n      <td>10000.000000</td>\n      <td>10000.000000</td>\n      <td>10000.000000</td>\n      <td>10000.00000</td>\n      <td>10000.000000</td>\n      <td>10000.000000</td>\n      <td>10000.000000</td>\n    </tr>\n    <tr>\n      <th>mean</th>\n      <td>650.528800</td>\n      <td>38.921800</td>\n      <td>5.012800</td>\n      <td>76485.889288</td>\n      <td>1.530200</td>\n      <td>0.70550</td>\n      <td>0.515100</td>\n      <td>100090.239881</td>\n      <td>0.203700</td>\n    </tr>\n    <tr>\n      <th>std</th>\n      <td>96.653299</td>\n      <td>10.487806</td>\n      <td>2.892174</td>\n      <td>62397.405202</td>\n      <td>0.581654</td>\n      <td>0.45584</td>\n      <td>0.499797</td>\n      <td>57510.492818</td>\n      <td>0.402769</td>\n    </tr>\n    <tr>\n      <th>min</th>\n      <td>350.000000</td>\n      <td>18.000000</td>\n      <td>0.000000</td>\n      <td>0.000000</td>\n      <td>1.000000</td>\n      <td>0.00000</td>\n      <td>0.000000</td>\n      <td>11.580000</td>\n      <td>0.000000</td>\n    </tr>\n    <tr>\n      <th>25%</th>\n      <td>584.000000</td>\n      <td>32.000000</td>\n      <td>3.000000</td>\n      <td>0.000000</td>\n      <td>1.000000</td>\n      <td>0.00000</td>\n      <td>0.000000</td>\n      <td>51002.110000</td>\n      <td>0.000000</td>\n    </tr>\n    <tr>\n      <th>50%</th>\n      <td>652.000000</td>\n      <td>37.000000</td>\n      <td>5.000000</td>\n      <td>97198.540000</td>\n      <td>1.000000</td>\n      <td>1.00000</td>\n      <td>1.000000</td>\n      <td>100193.915000</td>\n      <td>0.000000</td>\n    </tr>\n    <tr>\n      <th>75%</th>\n      <td>718.000000</td>\n      <td>44.000000</td>\n      <td>7.000000</td>\n      <td>127644.240000</td>\n      <td>2.000000</td>\n      <td>1.00000</td>\n      <td>1.000000</td>\n      <td>149388.247500</td>\n      <td>0.000000</td>\n    </tr>\n    <tr>\n      <th>max</th>\n      <td>850.000000</td>\n      <td>92.000000</td>\n      <td>10.000000</td>\n      <td>250898.090000</td>\n      <td>4.000000</td>\n      <td>1.00000</td>\n      <td>1.000000</td>\n      <td>199992.480000</td>\n      <td>1.000000</td>\n    </tr>\n  </tbody>\n</table>\n</div>",
       "datasetInfos": [],
       "metadata": {},
       "removedWidgets": [],
       "textData": null,
       "type": "htmlSandbox"
      }
     },
     "output_type": "display_data"
    }
   ],
   "source": [
    "churn_df_pd.describe()"
   ]
  },
  {
   "cell_type": "code",
   "execution_count": 0,
   "metadata": {
    "application/vnd.databricks.v1+cell": {
     "cellMetadata": {
      "byteLimit": 2048000,
      "rowLimit": 10000
     },
     "inputWidgets": {},
     "nuid": "9c778223-b98d-4ec9-a59f-dc6259c1a3bc",
     "showTitle": false,
     "title": ""
    }
   },
   "outputs": [
    {
     "output_type": "display_data",
     "data": {
      "text/html": [
       "<style scoped>\n",
       "  .ansiout {\n",
       "    display: block;\n",
       "    unicode-bidi: embed;\n",
       "    white-space: pre-wrap;\n",
       "    word-wrap: break-word;\n",
       "    word-break: break-all;\n",
       "    font-family: \"Source Code Pro\", \"Menlo\", monospace;;\n",
       "    font-size: 13px;\n",
       "    color: #555;\n",
       "    margin-left: 4px;\n",
       "    line-height: 19px;\n",
       "  }\n",
       "</style>\n",
       "<div class=\"ansiout\">Out[8]: </div>"
      ]
     },
     "metadata": {
      "application/vnd.databricks.v1+output": {
       "addedWidgets": {},
       "arguments": {},
       "data": "<div class=\"ansiout\">Out[8]: </div>",
       "datasetInfos": [],
       "metadata": {},
       "removedWidgets": [],
       "type": "html"
      }
     },
     "output_type": "display_data"
    },
    {
     "output_type": "display_data",
     "data": {
      "image/png": "[encoded data removed]"
     },
     "metadata": {
      "application/vnd.databricks.v1+output": {
       "addedWidgets": {},
       "arguments": {},
       "data": "data:image/png;base64,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",
       "datasetInfos": [],
       "metadata": {
        "imageDimensions": {
         "height": 262,
         "width": 395
        }
       },
       "removedWidgets": [],
       "type": "image"
      },
      "image/png": {
       "height": 262,
       "width": 395
      }
     },
     "output_type": "display_data"
    },
    {
     "output_type": "display_data",
     "data": {
      "text/html": [
       "<style scoped>\n",
       "  .ansiout {\n",
       "    display: block;\n",
       "    unicode-bidi: embed;\n",
       "    white-space: pre-wrap;\n",
       "    word-wrap: break-word;\n",
       "    word-break: break-all;\n",
       "    font-family: \"Source Code Pro\", \"Menlo\", monospace;;\n",
       "    font-size: 13px;\n",
       "    color: #555;\n",
       "    margin-left: 4px;\n",
       "    line-height: 19px;\n",
       "  }\n",
       "</style>\n",
       "<div class=\"ansiout\">&lt;AxesSubplot:xlabel=&#39;Gender&#39;, ylabel=&#39;count&#39;&gt;</div>"
      ]
     },
     "metadata": {
      "application/vnd.databricks.v1+output": {
       "addedWidgets": {},
       "arguments": {},
       "data": "<div class=\"ansiout\">&lt;AxesSubplot:xlabel=&#39;Gender&#39;, ylabel=&#39;count&#39;&gt;</div>",
       "datasetInfos": [],
       "metadata": {},
       "removedWidgets": [],
       "type": "html"
      }
     },
     "output_type": "display_data"
    }
   ],
   "source": [
    "sns.countplot(x=\"Gender\", hue = \"Exited\", data=churn_df_pd)"
   ]
  },
  {
   "cell_type": "code",
   "execution_count": 0,
   "metadata": {
    "application/vnd.databricks.v1+cell": {
     "cellMetadata": {
      "byteLimit": 2048000,
      "rowLimit": 10000
     },
     "inputWidgets": {},
     "nuid": "936c55f7-1e72-459d-a918-96112e3baf78",
     "showTitle": false,
     "title": ""
    }
   },
   "outputs": [
    {
     "output_type": "display_data",
     "data": {
      "text/html": [
       "<style scoped>\n",
       "  .ansiout {\n",
       "    display: block;\n",
       "    unicode-bidi: embed;\n",
       "    white-space: pre-wrap;\n",
       "    word-wrap: break-word;\n",
       "    word-break: break-all;\n",
       "    font-family: \"Source Code Pro\", \"Menlo\", monospace;;\n",
       "    font-size: 13px;\n",
       "    color: #555;\n",
       "    margin-left: 4px;\n",
       "    line-height: 19px;\n",
       "  }\n",
       "</style>\n",
       "<div class=\"ansiout\">Out[9]: </div>"
      ]
     },
     "metadata": {
      "application/vnd.databricks.v1+output": {
       "addedWidgets": {},
       "arguments": {},
       "data": "<div class=\"ansiout\">Out[9]: </div>",
       "datasetInfos": [],
       "metadata": {},
       "removedWidgets": [],
       "type": "html"
      }
     },
     "output_type": "display_data"
    },
    {
     "output_type": "display_data",
     "data": {
      "image/png": "[encoded data removed]"
     },
     "metadata": {
      "application/vnd.databricks.v1+output": {
       "addedWidgets": {},
       "arguments": {},
       "data": "data:image/png;base64,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",
       "datasetInfos": [],
       "metadata": {
        "imageDimensions": {
         "height": 262,
         "width": 395
        }
       },
       "removedWidgets": [],
       "type": "image"
      },
      "image/png": {
       "height": 262,
       "width": 395
      }
     },
     "output_type": "display_data"
    },
    {
     "output_type": "display_data",
     "data": {
      "text/html": [
       "<style scoped>\n",
       "  .ansiout {\n",
       "    display: block;\n",
       "    unicode-bidi: embed;\n",
       "    white-space: pre-wrap;\n",
       "    word-wrap: break-word;\n",
       "    word-break: break-all;\n",
       "    font-family: \"Source Code Pro\", \"Menlo\", monospace;;\n",
       "    font-size: 13px;\n",
       "    color: #555;\n",
       "    margin-left: 4px;\n",
       "    line-height: 19px;\n",
       "  }\n",
       "</style>\n",
       "<div class=\"ansiout\">&lt;AxesSubplot:xlabel=&#39;Geography&#39;, ylabel=&#39;count&#39;&gt;</div>"
      ]
     },
     "metadata": {
      "application/vnd.databricks.v1+output": {
       "addedWidgets": {},
       "arguments": {},
       "data": "<div class=\"ansiout\">&lt;AxesSubplot:xlabel=&#39;Geography&#39;, ylabel=&#39;count&#39;&gt;</div>",
       "datasetInfos": [],
       "metadata": {},
       "removedWidgets": [],
       "type": "html"
      }
     },
     "output_type": "display_data"
    }
   ],
   "source": [
    "sns.countplot(x=\"Geography\",  hue = \"Exited\", data=churn_df_pd)"
   ]
  },
  {
   "cell_type": "code",
   "execution_count": 0,
   "metadata": {
    "application/vnd.databricks.v1+cell": {
     "cellMetadata": {
      "byteLimit": 2048000,
      "rowLimit": 10000
     },
     "inputWidgets": {},
     "nuid": "a06c612d-9bc9-4b9f-8442-a9251ceb7408",
     "showTitle": false,
     "title": ""
    }
   },
   "outputs": [
    {
     "output_type": "display_data",
     "data": {
      "text/html": [
       "<style scoped>\n",
       "  .ansiout {\n",
       "    display: block;\n",
       "    unicode-bidi: embed;\n",
       "    white-space: pre-wrap;\n",
       "    word-wrap: break-word;\n",
       "    word-break: break-all;\n",
       "    font-family: \"Source Code Pro\", \"Menlo\", monospace;;\n",
       "    font-size: 13px;\n",
       "    color: #555;\n",
       "    margin-left: 4px;\n",
       "    line-height: 19px;\n",
       "  }\n",
       "</style>\n",
       "<div class=\"ansiout\">        Gender\n",
       "Male      5457\n",
       "Female    4543\n",
       "         Geography\n",
       "France        5014\n",
       "Germany       2509\n",
       "Spain         2477\n",
       "</div>"
      ]
     },
     "metadata": {
      "application/vnd.databricks.v1+output": {
       "addedWidgets": {},
       "arguments": {},
       "data": "<div class=\"ansiout\">        Gender\nMale      5457\nFemale    4543\n         Geography\nFrance        5014\nGermany       2509\nSpain         2477\n</div>",
       "datasetInfos": [],
       "metadata": {},
       "removedWidgets": [],
       "type": "html"
      }
     },
     "output_type": "display_data"
    }
   ],
   "source": [
    "#checking the number of unique values for categorical variables\n",
    "columns= [\"Gender\", \"Geography\"]\n",
    "def col_summary(df, col_name):\n",
    "    print(pd.DataFrame({col_name: df[col_name].value_counts()}))\n",
    "\n",
    "for col in churn_df_pd[columns]:\n",
    "    col_summary(churn_df_pd[columns], col)"
   ]
  },
  {
   "cell_type": "markdown",
   "metadata": {
    "application/vnd.databricks.v1+cell": {
     "cellMetadata": {
      "byteLimit": 2048000,
      "rowLimit": 10000
     },
     "inputWidgets": {},
     "nuid": "01ad0261-1d2e-419e-b607-4039519ad784",
     "showTitle": false,
     "title": ""
    }
   },
   "source": [
    "#Data transformation"
   ]
  },
  {
   "cell_type": "code",
   "execution_count": 0,
   "metadata": {
    "application/vnd.databricks.v1+cell": {
     "cellMetadata": {
      "byteLimit": 2048000,
      "rowLimit": 10000
     },
     "inputWidgets": {},
     "nuid": "34e80059-c05a-4e31-bbaa-b288f90cb44a",
     "showTitle": false,
     "title": ""
    }
   },
   "outputs": [
    {
     "output_type": "display_data",
     "data": {
      "text/html": [
       "<style scoped>\n",
       "  .ansiout {\n",
       "    display: block;\n",
       "    unicode-bidi: embed;\n",
       "    white-space: pre-wrap;\n",
       "    word-wrap: break-word;\n",
       "    word-break: break-all;\n",
       "    font-family: \"Source Code Pro\", \"Menlo\", monospace;;\n",
       "    font-size: 13px;\n",
       "    color: #555;\n",
       "    margin-left: 4px;\n",
       "    line-height: 19px;\n",
       "  }\n",
       "</style>\n",
       "<div class=\"ansiout\">Out[11]: </div>"
      ]
     },
     "metadata": {
      "application/vnd.databricks.v1+output": {
       "addedWidgets": {},
       "arguments": {},
       "data": "<div class=\"ansiout\">Out[11]: </div>",
       "datasetInfos": [],
       "metadata": {},
       "removedWidgets": [],
       "type": "html"
      }
     },
     "output_type": "display_data"
    },
    {
     "output_type": "display_data",
     "data": {
      "text/html": [
       "<div>\n",
       "<style scoped>\n",
       "    .dataframe tbody tr th:only-of-type {\n",
       "        vertical-align: middle;\n",
       "    }\n",
       "\n",
       "    .dataframe tbody tr th {\n",
       "        vertical-align: top;\n",
       "    }\n",
       "\n",
       "    .dataframe thead th {\n",
       "        text-align: right;\n",
       "    }\n",
       "</style>\n",
       "<table border=\"1\" class=\"dataframe\">\n",
       "  <thead>\n",
       "    <tr style=\"text-align: right;\">\n",
       "      <th></th>\n",
       "      <th>CreditScore</th>\n",
       "      <th>Age</th>\n",
       "      <th>Tenure</th>\n",
       "      <th>Balance</th>\n",
       "      <th>NumOfProducts</th>\n",
       "      <th>HasCrCard</th>\n",
       "      <th>IsActiveMember</th>\n",
       "      <th>EstimatedSalary</th>\n",
       "      <th>Exited</th>\n",
       "      <th>Geography_France</th>\n",
       "      <th>Geography_Germany</th>\n",
       "      <th>Geography_Spain</th>\n",
       "      <th>Gender_Female</th>\n",
       "      <th>Gender_Male</th>\n",
       "    </tr>\n",
       "  </thead>\n",
       "  <tbody>\n",
       "    <tr>\n",
       "      <th>0</th>\n",
       "      <td>619</td>\n",
       "      <td>42</td>\n",
       "      <td>2</td>\n",
       "      <td>0.00</td>\n",
       "      <td>1</td>\n",
       "      <td>1</td>\n",
       "      <td>1</td>\n",
       "      <td>101348.88</td>\n",
       "      <td>1</td>\n",
       "      <td>1</td>\n",
       "      <td>0</td>\n",
       "      <td>0</td>\n",
       "      <td>1</td>\n",
       "      <td>0</td>\n",
       "    </tr>\n",
       "    <tr>\n",
       "      <th>1</th>\n",
       "      <td>608</td>\n",
       "      <td>41</td>\n",
       "      <td>1</td>\n",
       "      <td>83807.86</td>\n",
       "      <td>1</td>\n",
       "      <td>0</td>\n",
       "      <td>1</td>\n",
       "      <td>112542.58</td>\n",
       "      <td>0</td>\n",
       "      <td>0</td>\n",
       "      <td>0</td>\n",
       "      <td>1</td>\n",
       "      <td>1</td>\n",
       "      <td>0</td>\n",
       "    </tr>\n",
       "    <tr>\n",
       "      <th>2</th>\n",
       "      <td>502</td>\n",
       "      <td>42</td>\n",
       "      <td>8</td>\n",
       "      <td>159660.80</td>\n",
       "      <td>3</td>\n",
       "      <td>1</td>\n",
       "      <td>0</td>\n",
       "      <td>113931.57</td>\n",
       "      <td>1</td>\n",
       "      <td>1</td>\n",
       "      <td>0</td>\n",
       "      <td>0</td>\n",
       "      <td>1</td>\n",
       "      <td>0</td>\n",
       "    </tr>\n",
       "    <tr>\n",
       "      <th>3</th>\n",
       "      <td>699</td>\n",
       "      <td>39</td>\n",
       "      <td>1</td>\n",
       "      <td>0.00</td>\n",
       "      <td>2</td>\n",
       "      <td>0</td>\n",
       "      <td>0</td>\n",
       "      <td>93826.63</td>\n",
       "      <td>0</td>\n",
       "      <td>1</td>\n",
       "      <td>0</td>\n",
       "      <td>0</td>\n",
       "      <td>1</td>\n",
       "      <td>0</td>\n",
       "    </tr>\n",
       "    <tr>\n",
       "      <th>4</th>\n",
       "      <td>850</td>\n",
       "      <td>43</td>\n",
       "      <td>2</td>\n",
       "      <td>125510.82</td>\n",
       "      <td>1</td>\n",
       "      <td>1</td>\n",
       "      <td>1</td>\n",
       "      <td>79084.10</td>\n",
       "      <td>0</td>\n",
       "      <td>0</td>\n",
       "      <td>0</td>\n",
       "      <td>1</td>\n",
       "      <td>1</td>\n",
       "      <td>0</td>\n",
       "    </tr>\n",
       "    <tr>\n",
       "      <th>...</th>\n",
       "      <td>...</td>\n",
       "      <td>...</td>\n",
       "      <td>...</td>\n",
       "      <td>...</td>\n",
       "      <td>...</td>\n",
       "      <td>...</td>\n",
       "      <td>...</td>\n",
       "      <td>...</td>\n",
       "      <td>...</td>\n",
       "      <td>...</td>\n",
       "      <td>...</td>\n",
       "      <td>...</td>\n",
       "      <td>...</td>\n",
       "      <td>...</td>\n",
       "    </tr>\n",
       "    <tr>\n",
       "      <th>9995</th>\n",
       "      <td>771</td>\n",
       "      <td>39</td>\n",
       "      <td>5</td>\n",
       "      <td>0.00</td>\n",
       "      <td>2</td>\n",
       "      <td>1</td>\n",
       "      <td>0</td>\n",
       "      <td>96270.64</td>\n",
       "      <td>0</td>\n",
       "      <td>1</td>\n",
       "      <td>0</td>\n",
       "      <td>0</td>\n",
       "      <td>0</td>\n",
       "      <td>1</td>\n",
       "    </tr>\n",
       "    <tr>\n",
       "      <th>9996</th>\n",
       "      <td>516</td>\n",
       "      <td>35</td>\n",
       "      <td>10</td>\n",
       "      <td>57369.61</td>\n",
       "      <td>1</td>\n",
       "      <td>1</td>\n",
       "      <td>1</td>\n",
       "      <td>101699.77</td>\n",
       "      <td>0</td>\n",
       "      <td>1</td>\n",
       "      <td>0</td>\n",
       "      <td>0</td>\n",
       "      <td>0</td>\n",
       "      <td>1</td>\n",
       "    </tr>\n",
       "    <tr>\n",
       "      <th>9997</th>\n",
       "      <td>709</td>\n",
       "      <td>36</td>\n",
       "      <td>7</td>\n",
       "      <td>0.00</td>\n",
       "      <td>1</td>\n",
       "      <td>0</td>\n",
       "      <td>1</td>\n",
       "      <td>42085.58</td>\n",
       "      <td>1</td>\n",
       "      <td>1</td>\n",
       "      <td>0</td>\n",
       "      <td>0</td>\n",
       "      <td>1</td>\n",
       "      <td>0</td>\n",
       "    </tr>\n",
       "    <tr>\n",
       "      <th>9998</th>\n",
       "      <td>772</td>\n",
       "      <td>42</td>\n",
       "      <td>3</td>\n",
       "      <td>75075.31</td>\n",
       "      <td>2</td>\n",
       "      <td>1</td>\n",
       "      <td>0</td>\n",
       "      <td>92888.52</td>\n",
       "      <td>1</td>\n",
       "      <td>0</td>\n",
       "      <td>1</td>\n",
       "      <td>0</td>\n",
       "      <td>0</td>\n",
       "      <td>1</td>\n",
       "    </tr>\n",
       "    <tr>\n",
       "      <th>9999</th>\n",
       "      <td>792</td>\n",
       "      <td>28</td>\n",
       "      <td>4</td>\n",
       "      <td>130142.79</td>\n",
       "      <td>1</td>\n",
       "      <td>1</td>\n",
       "      <td>0</td>\n",
       "      <td>38190.78</td>\n",
       "      <td>0</td>\n",
       "      <td>1</td>\n",
       "      <td>0</td>\n",
       "      <td>0</td>\n",
       "      <td>1</td>\n",
       "      <td>0</td>\n",
       "    </tr>\n",
       "  </tbody>\n",
       "</table>\n",
       "<p>10000 rows × 14 columns</p>\n",
       "</div>"
      ]
     },
     "metadata": {
      "application/vnd.databricks.v1+output": {
       "addedWidgets": {},
       "arguments": {},
       "data": "<div>\n<style scoped>\n    .dataframe tbody tr th:only-of-type {\n        vertical-align: middle;\n    }\n\n    .dataframe tbody tr th {\n        vertical-align: top;\n    }\n\n    .dataframe thead th {\n        text-align: right;\n    }\n</style>\n<table border=\"1\" class=\"dataframe\">\n  <thead>\n    <tr style=\"text-align: right;\">\n      <th></th>\n      <th>CreditScore</th>\n      <th>Age</th>\n      <th>Tenure</th>\n      <th>Balance</th>\n      <th>NumOfProducts</th>\n      <th>HasCrCard</th>\n      <th>IsActiveMember</th>\n      <th>EstimatedSalary</th>\n      <th>Exited</th>\n      <th>Geography_France</th>\n      <th>Geography_Germany</th>\n      <th>Geography_Spain</th>\n      <th>Gender_Female</th>\n      <th>Gender_Male</th>\n    </tr>\n  </thead>\n  <tbody>\n    <tr>\n      <th>0</th>\n      <td>619</td>\n      <td>42</td>\n      <td>2</td>\n      <td>0.00</td>\n      <td>1</td>\n      <td>1</td>\n      <td>1</td>\n      <td>101348.88</td>\n      <td>1</td>\n      <td>1</td>\n      <td>0</td>\n      <td>0</td>\n      <td>1</td>\n      <td>0</td>\n    </tr>\n    <tr>\n      <th>1</th>\n      <td>608</td>\n      <td>41</td>\n      <td>1</td>\n      <td>83807.86</td>\n      <td>1</td>\n      <td>0</td>\n      <td>1</td>\n      <td>112542.58</td>\n      <td>0</td>\n      <td>0</td>\n      <td>0</td>\n      <td>1</td>\n      <td>1</td>\n      <td>0</td>\n    </tr>\n    <tr>\n      <th>2</th>\n      <td>502</td>\n      <td>42</td>\n      <td>8</td>\n      <td>159660.80</td>\n      <td>3</td>\n      <td>1</td>\n      <td>0</td>\n      <td>113931.57</td>\n      <td>1</td>\n      <td>1</td>\n      <td>0</td>\n      <td>0</td>\n      <td>1</td>\n      <td>0</td>\n    </tr>\n    <tr>\n      <th>3</th>\n      <td>699</td>\n      <td>39</td>\n      <td>1</td>\n      <td>0.00</td>\n      <td>2</td>\n      <td>0</td>\n      <td>0</td>\n      <td>93826.63</td>\n      <td>0</td>\n      <td>1</td>\n      <td>0</td>\n      <td>0</td>\n      <td>1</td>\n      <td>0</td>\n    </tr>\n    <tr>\n      <th>4</th>\n      <td>850</td>\n      <td>43</td>\n      <td>2</td>\n      <td>125510.82</td>\n      <td>1</td>\n      <td>1</td>\n      <td>1</td>\n      <td>79084.10</td>\n      <td>0</td>\n      <td>0</td>\n      <td>0</td>\n      <td>1</td>\n      <td>1</td>\n      <td>0</td>\n    </tr>\n    <tr>\n      <th>...</th>\n      <td>...</td>\n      <td>...</td>\n      <td>...</td>\n      <td>...</td>\n      <td>...</td>\n      <td>...</td>\n      <td>...</td>\n      <td>...</td>\n      <td>...</td>\n      <td>...</td>\n      <td>...</td>\n      <td>...</td>\n      <td>...</td>\n      <td>...</td>\n    </tr>\n    <tr>\n      <th>9995</th>\n      <td>771</td>\n      <td>39</td>\n      <td>5</td>\n      <td>0.00</td>\n      <td>2</td>\n      <td>1</td>\n      <td>0</td>\n      <td>96270.64</td>\n      <td>0</td>\n      <td>1</td>\n      <td>0</td>\n      <td>0</td>\n      <td>0</td>\n      <td>1</td>\n    </tr>\n    <tr>\n      <th>9996</th>\n      <td>516</td>\n      <td>35</td>\n      <td>10</td>\n      <td>57369.61</td>\n      <td>1</td>\n      <td>1</td>\n      <td>1</td>\n      <td>101699.77</td>\n      <td>0</td>\n      <td>1</td>\n      <td>0</td>\n      <td>0</td>\n      <td>0</td>\n      <td>1</td>\n    </tr>\n    <tr>\n      <th>9997</th>\n      <td>709</td>\n      <td>36</td>\n      <td>7</td>\n      <td>0.00</td>\n      <td>1</td>\n      <td>0</td>\n      <td>1</td>\n      <td>42085.58</td>\n      <td>1</td>\n      <td>1</td>\n      <td>0</td>\n      <td>0</td>\n      <td>1</td>\n      <td>0</td>\n    </tr>\n    <tr>\n      <th>9998</th>\n      <td>772</td>\n      <td>42</td>\n      <td>3</td>\n      <td>75075.31</td>\n      <td>2</td>\n      <td>1</td>\n      <td>0</td>\n      <td>92888.52</td>\n      <td>1</td>\n      <td>0</td>\n      <td>1</td>\n      <td>0</td>\n      <td>0</td>\n      <td>1</td>\n    </tr>\n    <tr>\n      <th>9999</th>\n      <td>792</td>\n      <td>28</td>\n      <td>4</td>\n      <td>130142.79</td>\n      <td>1</td>\n      <td>1</td>\n      <td>0</td>\n      <td>38190.78</td>\n      <td>0</td>\n      <td>1</td>\n      <td>0</td>\n      <td>0</td>\n      <td>1</td>\n      <td>0</td>\n    </tr>\n  </tbody>\n</table>\n<p>10000 rows × 14 columns</p>\n</div>",
       "datasetInfos": [],
       "metadata": {},
       "removedWidgets": [],
       "textData": null,
       "type": "htmlSandbox"
      }
     },
     "output_type": "display_data"
    }
   ],
   "source": [
    "#Encoding/dummifying categorical variables\n",
    "#Gender and Geography\n",
    "churn_df_pd = pd.get_dummies(churn_df_pd)\n",
    "churn_df_pd\n",
    "\n",
    "#Note be careful when using .get_dummies before splitting data into x and y, because if the target variable is categorical it will split into 2 cols. "
   ]
  },
  {
   "cell_type": "code",
   "execution_count": 0,
   "metadata": {
    "application/vnd.databricks.v1+cell": {
     "cellMetadata": {
      "byteLimit": 2048000,
      "rowLimit": 10000
     },
     "inputWidgets": {},
     "nuid": "948b6d38-e0bf-4239-b0a3-925c6d38f30b",
     "showTitle": false,
     "title": ""
    }
   },
   "outputs": [
    {
     "output_type": "display_data",
     "data": {
      "text/html": [
       "<style scoped>\n",
       "  .ansiout {\n",
       "    display: block;\n",
       "    unicode-bidi: embed;\n",
       "    white-space: pre-wrap;\n",
       "    word-wrap: break-word;\n",
       "    word-break: break-all;\n",
       "    font-family: \"Source Code Pro\", \"Menlo\", monospace;;\n",
       "    font-size: 13px;\n",
       "    color: #555;\n",
       "    margin-left: 4px;\n",
       "    line-height: 19px;\n",
       "  }\n",
       "</style>\n",
       "<div class=\"ansiout\"></div>"
      ]
     },
     "metadata": {
      "application/vnd.databricks.v1+output": {
       "addedWidgets": {},
       "arguments": {},
       "data": "<div class=\"ansiout\"></div>",
       "datasetInfos": [],
       "metadata": {},
       "removedWidgets": [],
       "type": "html"
      }
     },
     "output_type": "display_data"
    }
   ],
   "source": [
    "#prepping data for modelling\n",
    "#train test split\n",
    "X = churn_df_pd.drop([\"Exited\"], axis=1)\n",
    "y = churn_df_pd[\"Exited\"]\n",
    "\n",
    "X_train, X_test, y_train, y_test = train_test_split(X, y, test_size=0.20, random_state=10)"
   ]
  },
  {
   "cell_type": "code",
   "execution_count": 0,
   "metadata": {
    "application/vnd.databricks.v1+cell": {
     "cellMetadata": {
      "byteLimit": 2048000,
      "rowLimit": 10000
     },
     "inputWidgets": {},
     "nuid": "0b745177-ae33-4b47-afa2-380a8b7554a4",
     "showTitle": false,
     "title": ""
    }
   },
   "outputs": [
    {
     "output_type": "display_data",
     "data": {
      "text/html": [
       "<style scoped>\n",
       "  .ansiout {\n",
       "    display: block;\n",
       "    unicode-bidi: embed;\n",
       "    white-space: pre-wrap;\n",
       "    word-wrap: break-word;\n",
       "    word-break: break-all;\n",
       "    font-family: \"Source Code Pro\", \"Menlo\", monospace;;\n",
       "    font-size: 13px;\n",
       "    color: #555;\n",
       "    margin-left: 4px;\n",
       "    line-height: 19px;\n",
       "  }\n",
       "</style>\n",
       "<div class=\"ansiout\"></div>"
      ]
     },
     "metadata": {
      "application/vnd.databricks.v1+output": {
       "addedWidgets": {},
       "arguments": {},
       "data": "<div class=\"ansiout\"></div>",
       "datasetInfos": [],
       "metadata": {},
       "removedWidgets": [],
       "type": "html"
      }
     },
     "output_type": "display_data"
    }
   ],
   "source": [
    "#standardisation\n",
    "scaler = StandardScaler()\n",
    "X_train = scaler.fit_transform(X_train)\n",
    "X_test = scaler.fit_transform(X_test)"
   ]
  },
  {
   "cell_type": "markdown",
   "metadata": {
    "application/vnd.databricks.v1+cell": {
     "cellMetadata": {
      "byteLimit": 2048000,
      "rowLimit": 10000
     },
     "inputWidgets": {},
     "nuid": "0b3f041f-a477-452e-8612-e9c802b5233f",
     "showTitle": false,
     "title": ""
    }
   },
   "source": [
    "#Logistic regression model"
   ]
  },
  {
   "cell_type": "code",
   "execution_count": 0,
   "metadata": {
    "application/vnd.databricks.v1+cell": {
     "cellMetadata": {
      "byteLimit": 2048000,
      "rowLimit": 10000
     },
     "inputWidgets": {},
     "nuid": "f3f9ed32-f9c1-4ad3-8049-3ab2ce1df054",
     "showTitle": false,
     "title": ""
    }
   },
   "outputs": [
    {
     "output_type": "display_data",
     "data": {
      "text/html": [
       "<style scoped>\n",
       "  .ansiout {\n",
       "    display: block;\n",
       "    unicode-bidi: embed;\n",
       "    white-space: pre-wrap;\n",
       "    word-wrap: break-word;\n",
       "    word-break: break-all;\n",
       "    font-family: \"Source Code Pro\", \"Menlo\", monospace;;\n",
       "    font-size: 13px;\n",
       "    color: #555;\n",
       "    margin-left: 4px;\n",
       "    line-height: 19px;\n",
       "  }\n",
       "</style>\n",
       "<div class=\"ansiout\"></div>"
      ]
     },
     "metadata": {
      "application/vnd.databricks.v1+output": {
       "addedWidgets": {},
       "arguments": {},
       "data": "<div class=\"ansiout\"></div>",
       "datasetInfos": [],
       "metadata": {},
       "removedWidgets": [],
       "type": "html"
      }
     },
     "output_type": "display_data"
    }
   ],
   "source": [
    "lr=LogisticRegression()\n",
    "lr.fit(X_train, y_train)\n",
    "y_pred = lr.predict(X_test)"
   ]
  },
  {
   "cell_type": "code",
   "execution_count": 0,
   "metadata": {
    "application/vnd.databricks.v1+cell": {
     "cellMetadata": {
      "byteLimit": 2048000,
      "rowLimit": 10000
     },
     "inputWidgets": {},
     "nuid": "8fd61c10-100a-44a5-bb52-9db644bdabee",
     "showTitle": false,
     "title": ""
    }
   },
   "outputs": [
    {
     "output_type": "display_data",
     "data": {
      "text/html": [
       "<style scoped>\n",
       "  .ansiout {\n",
       "    display: block;\n",
       "    unicode-bidi: embed;\n",
       "    white-space: pre-wrap;\n",
       "    word-wrap: break-word;\n",
       "    word-break: break-all;\n",
       "    font-family: \"Source Code Pro\", \"Menlo\", monospace;;\n",
       "    font-size: 13px;\n",
       "    color: #555;\n",
       "    margin-left: 4px;\n",
       "    line-height: 19px;\n",
       "  }\n",
       "</style>\n",
       "<div class=\"ansiout\">Confusion matrix:\n",
       "[[1508   70]\n",
       " [ 329   93]]\n",
       "\n",
       "Classification Report\n",
       "              precision    recall  f1-score   support\n",
       "\n",
       "           0       0.82      0.96      0.88      1578\n",
       "           1       0.57      0.22      0.32       422\n",
       "\n",
       "    accuracy                           0.80      2000\n",
       "   macro avg       0.70      0.59      0.60      2000\n",
       "weighted avg       0.77      0.80      0.76      2000\n",
       "\n",
       "\n",
       "Accuracy of Model : 0.8005\n",
       "</div>"
      ]
     },
     "metadata": {
      "application/vnd.databricks.v1+output": {
       "addedWidgets": {},
       "arguments": {},
       "data": "<div class=\"ansiout\">Confusion matrix:\n[[1508   70]\n [ 329   93]]\n\nClassification Report\n              precision    recall  f1-score   support\n\n           0       0.82      0.96      0.88      1578\n           1       0.57      0.22      0.32       422\n\n    accuracy                           0.80      2000\n   macro avg       0.70      0.59      0.60      2000\nweighted avg       0.77      0.80      0.76      2000\n\n\nAccuracy of Model : 0.8005\n</div>",
       "datasetInfos": [],
       "metadata": {},
       "removedWidgets": [],
       "type": "html"
      }
     },
     "output_type": "display_data"
    }
   ],
   "source": [
    "print(\"Confusion matrix:\")\n",
    "print(confusion_matrix(y_test,y_pred))\n",
    "print()\n",
    "print('Classification Report')\n",
    "print(classification_report(y_test, y_pred))\n",
    "print()\n",
    "print('Accuracy of Model :',round(accuracy_score(y_test, y_pred),4))\n",
    "#accuracy of the model is 78.1%...so lower than baseline...this is before standardisation\n",
    "# now accuracy is 80.05, need to do hyperparamet tuning to try and get even higher. "
   ]
  },
  {
   "cell_type": "code",
   "execution_count": 0,
   "metadata": {
    "application/vnd.databricks.v1+cell": {
     "cellMetadata": {
      "byteLimit": 2048000,
      "rowLimit": 10000
     },
     "inputWidgets": {},
     "nuid": "bde0c06e-4c92-445b-8141-ea43e64286b0",
     "showTitle": false,
     "title": ""
    }
   },
   "outputs": [
    {
     "output_type": "display_data",
     "data": {
      "text/html": [
       "<style scoped>\n",
       "  .ansiout {\n",
       "    display: block;\n",
       "    unicode-bidi: embed;\n",
       "    white-space: pre-wrap;\n",
       "    word-wrap: break-word;\n",
       "    word-break: break-all;\n",
       "    font-family: \"Source Code Pro\", \"Menlo\", monospace;;\n",
       "    font-size: 13px;\n",
       "    color: #555;\n",
       "    margin-left: 4px;\n",
       "    line-height: 19px;\n",
       "  }\n",
       "</style>\n",
       "<div class=\"ansiout\">Cross-Validation Accuracy Scores 0.812625\n",
       "</div>"
      ]
     },
     "metadata": {
      "application/vnd.databricks.v1+output": {
       "addedWidgets": {},
       "arguments": {},
       "data": "<div class=\"ansiout\">Cross-Validation Accuracy Scores 0.812625\n</div>",
       "datasetInfos": [],
       "metadata": {},
       "removedWidgets": [],
       "type": "html"
      }
     },
     "output_type": "display_data"
    }
   ],
   "source": [
    "#cross validation\n",
    "lrscores = cross_val_score(lr, X_train, y_train, cv=10)\n",
    "print('Cross-Validation Accuracy Scores', lrscores.mean())"
   ]
  },
  {
   "cell_type": "code",
   "execution_count": 0,
   "metadata": {
    "application/vnd.databricks.v1+cell": {
     "cellMetadata": {
      "byteLimit": 2048000,
      "rowLimit": 10000
     },
     "inputWidgets": {},
     "nuid": "d039bd29-2a42-4afd-99f3-e63e3b8b779f",
     "showTitle": false,
     "title": ""
    }
   },
   "outputs": [
    {
     "output_type": "display_data",
     "data": {
      "image/png": "[encoded data removed]"
     },
     "metadata": {
      "application/vnd.databricks.v1+output": {
       "addedWidgets": {},
       "arguments": {},
       "data": "data:image/png;base64,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",
       "datasetInfos": [],
       "metadata": {
        "imageDimensions": {
         "height": 262,
         "width": 386
        }
       },
       "removedWidgets": [],
       "type": "image"
      },
      "image/png": {
       "height": 262,
       "width": 386
      }
     },
     "output_type": "display_data"
    }
   ],
   "source": [
    "#ROC Curve/score\n",
    "y_pred_proba = lr.predict_proba(X_test)[::,1]\n",
    "fpr, tpr, _ = metrics.roc_curve(y_test,  y_pred_proba)\n",
    "auc = metrics.roc_auc_score(y_test, y_pred_proba)\n",
    "\n",
    "#create ROC curve\n",
    "plt.plot(fpr,tpr,label=\"AUC=\"+str(auc))\n",
    "plt.ylabel('True Positive Rate')\n",
    "plt.xlabel('False Positive Rate')\n",
    "plt.legend(loc=4)\n",
    "plt.show()\n",
    "\n",
    "#auc value 0.75. AUC score typically ranges from 0.5-1. The bigger the better the model is at classification."
   ]
  },
  {
   "cell_type": "markdown",
   "metadata": {
    "application/vnd.databricks.v1+cell": {
     "cellMetadata": {
      "byteLimit": 2048000,
      "rowLimit": 10000
     },
     "inputWidgets": {},
     "nuid": "98566081-596b-40d7-b3b1-e61356eaaded",
     "showTitle": false,
     "title": ""
    }
   },
   "source": [
    "#Random forrest"
   ]
  },
  {
   "cell_type": "code",
   "execution_count": 0,
   "metadata": {
    "application/vnd.databricks.v1+cell": {
     "cellMetadata": {
      "byteLimit": 2048000,
      "rowLimit": 10000
     },
     "inputWidgets": {},
     "nuid": "29241ad6-0277-404f-96a6-58a786cf6d84",
     "showTitle": false,
     "title": ""
    }
   },
   "outputs": [
    {
     "output_type": "display_data",
     "data": {
      "text/html": [
       "<style scoped>\n",
       "  .ansiout {\n",
       "    display: block;\n",
       "    unicode-bidi: embed;\n",
       "    white-space: pre-wrap;\n",
       "    word-wrap: break-word;\n",
       "    word-break: break-all;\n",
       "    font-family: \"Source Code Pro\", \"Menlo\", monospace;;\n",
       "    font-size: 13px;\n",
       "    color: #555;\n",
       "    margin-left: 4px;\n",
       "    line-height: 19px;\n",
       "  }\n",
       "</style>\n",
       "<div class=\"ansiout\"></div>"
      ]
     },
     "metadata": {
      "application/vnd.databricks.v1+output": {
       "addedWidgets": {},
       "arguments": {},
       "data": "<div class=\"ansiout\"></div>",
       "datasetInfos": [],
       "metadata": {},
       "removedWidgets": [],
       "type": "html"
      }
     },
     "output_type": "display_data"
    }
   ],
   "source": [
    "rf = RandomForestClassifier() #n_estimators = 100, max_depth = 10, random_state = 100\n",
    "rf.fit(X_train, y_train)\n",
    "rf_y_pred = rf.predict(X_test)"
   ]
  },
  {
   "cell_type": "code",
   "execution_count": 0,
   "metadata": {
    "application/vnd.databricks.v1+cell": {
     "cellMetadata": {
      "byteLimit": 2048000,
      "rowLimit": 10000
     },
     "inputWidgets": {},
     "nuid": "829b9abd-16e2-4d7c-8735-baade518966c",
     "showTitle": false,
     "title": ""
    }
   },
   "outputs": [
    {
     "output_type": "display_data",
     "data": {
      "text/html": [
       "<style scoped>\n",
       "  .ansiout {\n",
       "    display: block;\n",
       "    unicode-bidi: embed;\n",
       "    white-space: pre-wrap;\n",
       "    word-wrap: break-word;\n",
       "    word-break: break-all;\n",
       "    font-family: \"Source Code Pro\", \"Menlo\", monospace;;\n",
       "    font-size: 13px;\n",
       "    color: #555;\n",
       "    margin-left: 4px;\n",
       "    line-height: 19px;\n",
       "  }\n",
       "</style>\n",
       "<div class=\"ansiout\">Confusion matrix:\n",
       "[[1511   67]\n",
       " [ 218  204]]\n",
       "\n",
       "Classification Report\n",
       "              precision    recall  f1-score   support\n",
       "\n",
       "           0       0.87      0.96      0.91      1578\n",
       "           1       0.75      0.48      0.59       422\n",
       "\n",
       "    accuracy                           0.86      2000\n",
       "   macro avg       0.81      0.72      0.75      2000\n",
       "weighted avg       0.85      0.86      0.85      2000\n",
       "\n",
       "\n",
       "Accuracy of Model : 0.8575\n",
       "</div>"
      ]
     },
     "metadata": {
      "application/vnd.databricks.v1+output": {
       "addedWidgets": {},
       "arguments": {},
       "data": "<div class=\"ansiout\">Confusion matrix:\n[[1511   67]\n [ 218  204]]\n\nClassification Report\n              precision    recall  f1-score   support\n\n           0       0.87      0.96      0.91      1578\n           1       0.75      0.48      0.59       422\n\n    accuracy                           0.86      2000\n   macro avg       0.81      0.72      0.75      2000\nweighted avg       0.85      0.86      0.85      2000\n\n\nAccuracy of Model : 0.8575\n</div>",
       "datasetInfos": [],
       "metadata": {},
       "removedWidgets": [],
       "type": "html"
      }
     },
     "output_type": "display_data"
    }
   ],
   "source": [
    "print(\"Confusion matrix:\")\n",
    "print(confusion_matrix(y_test,rf_y_pred))\n",
    "print()\n",
    "print('Classification Report')\n",
    "print(classification_report(y_test, rf_y_pred))\n",
    "print()\n",
    "print('Accuracy of Model :',round(accuracy_score(y_test, rf_y_pred),4))\n",
    "#rf is giving higher accuracy score compared to lr. "
   ]
  },
  {
   "cell_type": "code",
   "execution_count": 0,
   "metadata": {
    "application/vnd.databricks.v1+cell": {
     "cellMetadata": {
      "byteLimit": 2048000,
      "rowLimit": 10000
     },
     "inputWidgets": {},
     "nuid": "9aea5888-406e-42bc-8af7-cc231b8dbae1",
     "showTitle": false,
     "title": ""
    }
   },
   "outputs": [
    {
     "output_type": "display_data",
     "data": {
      "text/html": [
       "<style scoped>\n",
       "  .ansiout {\n",
       "    display: block;\n",
       "    unicode-bidi: embed;\n",
       "    white-space: pre-wrap;\n",
       "    word-wrap: break-word;\n",
       "    word-break: break-all;\n",
       "    font-family: \"Source Code Pro\", \"Menlo\", monospace;;\n",
       "    font-size: 13px;\n",
       "    color: #555;\n",
       "    margin-left: 4px;\n",
       "    line-height: 19px;\n",
       "  }\n",
       "</style>\n",
       "<div class=\"ansiout\">Cross-Validation Accuracy Scores 0.862125\n",
       "</div>"
      ]
     },
     "metadata": {
      "application/vnd.databricks.v1+output": {
       "addedWidgets": {},
       "arguments": {},
       "data": "<div class=\"ansiout\">Cross-Validation Accuracy Scores 0.862125\n</div>",
       "datasetInfos": [],
       "metadata": {},
       "removedWidgets": [],
       "type": "html"
      }
     },
     "output_type": "display_data"
    }
   ],
   "source": [
    "#cross validation\n",
    "rfscores = cross_val_score(rf, X_train, y_train, cv=10)\n",
    "print('Cross-Validation Accuracy Scores', rfscores.mean())"
   ]
  },
  {
   "cell_type": "code",
   "execution_count": 0,
   "metadata": {
    "application/vnd.databricks.v1+cell": {
     "cellMetadata": {
      "byteLimit": 2048000,
      "rowLimit": 10000
     },
     "inputWidgets": {},
     "nuid": "525e45fd-cfce-48b7-bbe7-415fda463f22",
     "showTitle": false,
     "title": ""
    }
   },
   "outputs": [
    {
     "output_type": "display_data",
     "data": {
      "image/png": "[encoded data removed]"
     },
     "metadata": {
      "application/vnd.databricks.v1+output": {
       "addedWidgets": {},
       "arguments": {},
       "data": "data:image/png;base64,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",
       "datasetInfos": [],
       "metadata": {
        "imageDimensions": {
         "height": 262,
         "width": 386
        }
       },
       "removedWidgets": [],
       "type": "image"
      },
      "image/png": {
       "height": 262,
       "width": 386
      }
     },
     "output_type": "display_data"
    }
   ],
   "source": [
    "#ROC Curve/score\n",
    "y_pred_proba_rf = rf.predict_proba(X_test)[::,1]\n",
    "fpr_rf, tpr_rf, _rf = metrics.roc_curve(y_test,  y_pred_proba_rf)\n",
    "auc_rf = metrics.roc_auc_score(y_test, y_pred_proba_rf)\n",
    "\n",
    "#create ROC curve\n",
    "plt.plot(fpr_rf,tpr_rf,label=\"AUC=\"+str(auc_rf))\n",
    "plt.ylabel('True Positive Rate')\n",
    "plt.xlabel('False Positive Rate')\n",
    "plt.legend(loc=4)\n",
    "plt.show()\n",
    "\n",
    "#AUC score of 0.85, close to 1, means rf is better at classifying if cust will churn or not. "
   ]
  },
  {
   "cell_type": "markdown",
   "metadata": {
    "application/vnd.databricks.v1+cell": {
     "cellMetadata": {
      "byteLimit": 2048000,
      "rowLimit": 10000
     },
     "inputWidgets": {},
     "nuid": "fbbb747e-1047-4022-a022-2ba6362d9e11",
     "showTitle": false,
     "title": ""
    }
   },
   "source": [
    "#Feauture importance for LR and rf models"
   ]
  },
  {
   "cell_type": "markdown",
   "metadata": {
    "application/vnd.databricks.v1+cell": {
     "cellMetadata": {
      "byteLimit": 2048000,
      "rowLimit": 10000
     },
     "inputWidgets": {},
     "nuid": "a5a9e923-284f-49e7-ad46-c0e301491699",
     "showTitle": false,
     "title": ""
    }
   },
   "source": [
    "Feature importance refers to techniques that assign a score to input features based on how useful they are at predicting a target variable. \n",
    "Feature importance can be investigated through model coefficients, decision trees and permutation testing. \n",
    "Linear machine learning algorithms fit a model where the prediction is the wieghted sum of input values. LR finds a set of coefficients to use in the weighted sum in order to make a prediction.\n",
    "These coefficients can be used as a feature importance score."
   ]
  },
  {
   "cell_type": "code",
   "execution_count": 0,
   "metadata": {
    "application/vnd.databricks.v1+cell": {
     "cellMetadata": {
      "byteLimit": 2048000,
      "rowLimit": 10000
     },
     "inputWidgets": {},
     "nuid": "ab9f91eb-c051-4f0d-932b-d56de1aa709a",
     "showTitle": false,
     "title": ""
    }
   },
   "outputs": [
    {
     "output_type": "display_data",
     "data": {
      "text/html": [
       "<style scoped>\n",
       "  .ansiout {\n",
       "    display: block;\n",
       "    unicode-bidi: embed;\n",
       "    white-space: pre-wrap;\n",
       "    word-wrap: break-word;\n",
       "    word-break: break-all;\n",
       "    font-family: \"Source Code Pro\", \"Menlo\", monospace;;\n",
       "    font-size: 13px;\n",
       "    color: #555;\n",
       "    margin-left: 4px;\n",
       "    line-height: 19px;\n",
       "  }\n",
       "</style>\n",
       "<div class=\"ansiout\">Feature: 0, Score: -0.05311\n",
       "Feature: 1, Score: 0.77249\n",
       "Feature: 2, Score: -0.01765\n",
       "Feature: 3, Score: 0.15016\n",
       "Feature: 4, Score: -0.06511\n",
       "Feature: 5, Score: -0.02500\n",
       "Feature: 6, Score: -0.54569\n",
       "Feature: 7, Score: 0.03781\n",
       "Feature: 8, Score: -0.12414\n",
       "Feature: 9, Score: 0.25723\n",
       "Feature: 10, Score: -0.11406\n",
       "Feature: 11, Score: 0.13641\n",
       "Feature: 12, Score: -0.13641\n",
       "</div>"
      ]
     },
     "metadata": {
      "application/vnd.databricks.v1+output": {
       "addedWidgets": {},
       "arguments": {},
       "data": "<div class=\"ansiout\">Feature: 0, Score: -0.05311\nFeature: 1, Score: 0.77249\nFeature: 2, Score: -0.01765\nFeature: 3, Score: 0.15016\nFeature: 4, Score: -0.06511\nFeature: 5, Score: -0.02500\nFeature: 6, Score: -0.54569\nFeature: 7, Score: 0.03781\nFeature: 8, Score: -0.12414\nFeature: 9, Score: 0.25723\nFeature: 10, Score: -0.11406\nFeature: 11, Score: 0.13641\nFeature: 12, Score: -0.13641\n</div>",
       "datasetInfos": [],
       "metadata": {},
       "removedWidgets": [],
       "type": "html"
      }
     },
     "output_type": "display_data"
    },
    {
     "output_type": "display_data",
     "data": {
      "image/png": "[encoded data removed]"
     },
     "metadata": {
      "application/vnd.databricks.v1+output": {
       "addedWidgets": {},
       "arguments": {},
       "data": "data:image/png;base64,iVBORw0KGgoAAAANSUhEUgAAAXwAAAD4CAYAAADvsV2wAAAAOXRFWHRTb2Z0d2FyZQBNYXRwbG90bGliIHZlcnNpb24zLjQuMiwgaHR0cHM6Ly9tYXRwbG90bGliLm9yZy8rg+JYAAAACXBIWXMAAAsTAAALEwEAmpwYAAAQqElEQVR4nO3dfayedX3H8ffHdp3zEQ1nyGhZSVadnXGiJ0xHdEZqUsRQkzkHUwcZrH84nPNhSw0LWTBZ6ticS2QPFR34MJExH5pRB1hZTBYwPVWCFobUClIEesCHzRmHzO/+OFe32+N9eh6uu+fu6e/9Sk7u63ddv16/b5u7n/M713Vfv5OqQpJ0/HvCuAuQJC0PA1+SGmHgS1IjDHxJaoSBL0mNWD3uAuZy4okn1vr168ddhiStKHv37n2kqiaGHTtmA3/9+vVMTU2NuwxJWlGS3DfXMS/pSFIjRhL4STYnuTvJ/iTbhhw/NcktSb6U5I4krxrFuJKkhesd+ElWAVcCZwMbgfOTbJzV7Y+B66rqdOA84K/7jitJWpxRzPDPAPZX1YGqegy4Ftgyq08BT+u2nw58cwTjSpIWYRSBfwpw/0D7YLdv0J8Ab0hyENgFvHnYiZJsTTKVZGp6enoEpUmSDluum7bnA1dX1VrgVcCHk/zE2FW1o6omq2pyYmLop4okSUs0isB/AFg30F7b7Rt0EXAdQFXdCjwROHEEY0uSFmgUgb8H2JDktCRrmLkpu3NWn28AZwEkeS4zge81G0laRr0fvKqqx5NcAtwIrAI+WFX7klwOTFXVTuDtwPuTvJWZG7gX1gpeiH/9thtGdq57t58zsnNJ0pGM5EnbqtrFzM3YwX2XDWzfCZw5irEkSUvjk7aS1AgDX5IaYeBLUiMMfElqhIEvSY0w8CWpEQa+JDXCwJekRhj4ktQIA1+SGmHgS1IjDHxJaoSBL0mNMPAlqREGviQ1wsCXpEYY+JLUCANfkhph4EtSIwx8SWqEgS9JjRhJ4CfZnOTuJPuTbJujz+uS3JlkX5J/GMW4kqSFW933BElWAVcCrwQOAnuS7KyqOwf6bADeCZxZVd9O8rN9x5UkLc4oZvhnAPur6kBVPQZcC2yZ1ed3gSur6tsAVXVoBONKkhZhFIF/CnD/QPtgt2/Qs4FnJ/m3JLcl2TzsREm2JplKMjU9PT2C0iRJhy3XTdvVwAbg5cD5wPuTnDC7U1XtqKrJqpqcmJhYptIkqQ2jCPwHgHUD7bXdvkEHgZ1V9cOq+jrwVWa+AUiSlskoAn8PsCHJaUnWAOcBO2f1+RQzs3uSnMjMJZ4DIxhbkrRAvQO/qh4HLgFuBO4CrquqfUkuT3Ju1+1G4NEkdwK3AH9YVY/2HVuStHC9P5YJUFW7gF2z9l02sF3A27ovSdIY+KStJDXCwJekRhj4ktQIA1+SGmHgS1IjDHxJaoSBL0mNMPAlqREGviQ1wsCXpEYY+JLUCANfkhph4EtSIwx8SWqEgS9JjTDwJakRBr4kNcLAl6RGGPiS1AgDX5IaYeBLUiNGEvhJNie5O8n+JNuO0O/Xk1SSyVGMK0lauN6Bn2QVcCVwNrAROD/JxiH9ngq8BfhC3zElSYs3ihn+GcD+qjpQVY8B1wJbhvR7F/Bu4AcjGFOStEijCPxTgPsH2ge7ff8nyQuBdVV1w5FOlGRrkqkkU9PT0yMoTZJ02FG/aZvkCcB7gLfP17eqdlTVZFVNTkxMHO3SJKkpowj8B4B1A+213b7Dngo8D/jXJPcCLwZ2euNWkpbXKAJ/D7AhyWlJ1gDnATsPH6yq71bViVW1vqrWA7cB51bV1AjGliQtUO/Ar6rHgUuAG4G7gOuqal+Sy5Oc2/f8kqTRWD2Kk1TVLmDXrH2XzdH35aMYU5K0OD5pK0mNMPAlqREGviQ1wsCXpEYY+JLUCANfkhph4EtSIwx8SWqEgS9JjTDwJakRBr4kNcLAl6RGGPiS1AgDX5IaYeBLUiMMfElqxEh+AYqkNqzfdsPIznXv9nNGdi4tjDN8SWqEgS9JjTDwJakRBr4kNWIkgZ9kc5K7k+xPsm3I8bcluTPJHUl2J/n5UYwrSVq43oGfZBVwJXA2sBE4P8nGWd2+BExW1fOB64E/6zuuJGlxRjHDPwPYX1UHquox4Fpgy2CHqrqlqr7fNW8D1o5gXEnSIowi8E8B7h9oH+z2zeUi4DPDDiTZmmQqydT09PQISpMkHbasN22TvAGYBK4YdryqdlTVZFVNTkxMLGdpknTcG8WTtg8A6wbaa7t9PybJJuBS4Neq6r9HMK4kaRFGMcPfA2xIclqSNcB5wM7BDklOB/4OOLeqDo1gTEnSIvUO/Kp6HLgEuBG4C7iuqvYluTzJuV23K4CnAP+Y5PYkO+c4nSTpKBnJ4mlVtQvYNWvfZQPbm0YxjiRp6XzSVpIaYeBLUiNcD79BrmkutckZviQ1whm+pCb4k60zfElqhoEvSY0w8CWpEQa+JDXCwJekRhj4ktQIA1+SGmHgS1IjDHxJaoSBL0mNMPAlqREGviQ1wsCXpEa4Wqa0jFyxUePkDF+SGmHgS1IjRhL4STYnuTvJ/iTbhhz/6SQf745/Icn6UYwrSVq43oGfZBVwJXA2sBE4P8nGWd0uAr5dVb8A/CXw7r7jSpIWZxQz/DOA/VV1oKoeA64FtszqswW4ptu+HjgrSUYwtiRpgVJV/U6QvBbYXFUXd+03Ar9SVZcM9PlK1+dg1/5a1+eRWefaCmwFOPXUU1903333LbmulfxpiJVcOxz9+o/m+f23/3++7xfnWKk/yd6qmhx27Ji6aVtVO6pqsqomJyYmxl2OJB1XRhH4DwDrBtpru31D+yRZDTwdeHQEY0uSFmgUD17tATYkOY2ZYD8P+K1ZfXYCFwC3Aq8FPld9ryUdx3ygRtLR0Dvwq+rxJJcANwKrgA9W1b4klwNTVbUT+ADw4ST7gW8x801BWhK/IUpLM5KlFapqF7Br1r7LBrZ/APzGKMaSJC3NMXXTVpJ09Bj4ktSI43a1TK/zStKPc4YvSY04bmf4Gh9/upKOTc7wJakRBr4kNcLAl6RGGPiS1AgDX5IaYeBLUiP8WKakY4If5z36nOFLUiOc4UvHEWfJOhJn+JLUCGf4kjQCK+GnK2f4ktQIA1+SGmHgS1IjDHxJaoSBL0mN6BX4SZ6Z5OYk93SvzxjS5wVJbk2yL8kdSX6zz5iSpKXpO8PfBuyuqg3A7q492/eB366qXwI2A+9NckLPcSVJi9Q38LcA13Tb1wCvmd2hqr5aVfd0298EDgETPceVJC1S38A/qaoe7LYfAk46UuckZwBrgK/NcXxrkqkkU9PT0z1LkyQNmvdJ2ySfBZ415NClg42qqiR1hPOcDHwYuKCqfjSsT1XtAHYATE5OznkuSdLizRv4VbVprmNJHk5yclU92AX6oTn6PQ24Abi0qm5bcrWSpCXre0lnJ3BBt30B8OnZHZKsAT4JfKiqru85niRpifoG/nbglUnuATZ1bZJMJrmq6/M64GXAhUlu775e0HNcSdIi9Vots6oeBc4asn8KuLjb/gjwkT7jSJL680lbSWqEgS9JjTDwJakRBr4kNcLAl6RGGPiS1AgDX5IaYeBLUiMMfElqhIEvSY0w8CWpEQa+JDXCwJekRhj4ktQIA1+SGmHgS1IjDHxJaoSBL0mNMPAlqREGviQ1wsCXpEb0Cvwkz0xyc5J7utdnHKHv05IcTPK+PmNKkpam7wx/G7C7qjYAu7v2XN4FfL7neJKkJeob+FuAa7rta4DXDOuU5EXAScBNPceTJC1R38A/qaoe7LYfYibUf0ySJwB/AbxjvpMl2ZpkKsnU9PR0z9IkSYNWz9chyWeBZw05dOlgo6oqSQ3p9yZgV1UdTHLEsapqB7ADYHJycti5JElLNG/gV9WmuY4leTjJyVX1YJKTgUNDur0EeGmSNwFPAdYk+V5VHel6vyRpxOYN/HnsBC4Atnevn57doapef3g7yYXApGEvScuv7zX87cArk9wDbOraJJlMclXf4iRJo9Nrhl9VjwJnDdk/BVw8ZP/VwNV9xpQkLY1P2kpSIwx8SWqEgS9JjTDwJakRBr4kNcLAl6RGGPiS1AgDX5IaYeBLUiMMfElqhIEvSY0w8CWpEQa+JDXCwJekRhj4ktQIA1+SGtH3VxxKx5V7t58z7hKko8YZviQ1wsCXpEYY+JLUCANfkhrRK/CTPDPJzUnu6V6fMUe/U5PclOSuJHcmWd9nXEnS4vWd4W8DdlfVBmB31x7mQ8AVVfVc4AzgUM9xJUmL1DfwtwDXdNvXAK+Z3SHJRmB1Vd0MUFXfq6rv9xxXkrRIfQP/pKp6sNt+CDhpSJ9nA99J8okkX0pyRZJVw06WZGuSqSRT09PTPUuTJA2a98GrJJ8FnjXk0KWDjaqqJDXHGC8FTge+AXwcuBD4wOyOVbUD2AEwOTk57FySpCWaN/CratNcx5I8nOTkqnowyckMvzZ/ELi9qg50f+ZTwIsZEviD9u7d+0iS++arr6cTgUeO8hhH00qufyXXDiu7/pVcO1j/fH5+rgN9l1bYCVwAbO9ePz2kzx7ghCQTVTUNvAKYmu/EVTXRs7Z5JZmqqsmjPc7RspLrX8m1w8qufyXXDtbfR99r+NuBVya5B9jUtUkymeQqgKr6H+AdwO4kXwYCvL/nuJKkReo1w6+qR4GzhuyfAi4eaN8MPL/PWJKkflp/0nbHuAvoaSXXv5Jrh5Vd/0quHax/yVLlh2EkqQWtz/AlqRkGviQ1otnAT7I5yd1J9ieZaw2gY06SdUlu6Rah25fkLeOuaSmSrOqevP7ncdeyGElOSHJ9kn/vFgN8ybhrWowkb+3eN19J8rEkTxx3TUeS5INJDiX5ysC+BS3aOG5z1H5F9965I8knk5ywnDU1Gfjd0g5XAmcDG4HzuzV/VoLHgbdX1UZmHmD7vRVU+6C3AHeNu4gl+CvgX6rqF4FfZgX9HZKcAvw+MFlVzwNWAeeNt6p5XQ1snrVvoYs2jtvV/GTtNwPPq6rnA18F3rmcBTUZ+Mys2Lm/qg5U1WPAtcwsBHfMq6oHq+qL3fZ/MhM4p4y3qsVJshY4B7hq3LUsRpKnAy+je0q8qh6rqu+MtajFWw38TJLVwJOAb465niOqqs8D35q1e95FG48Fw2qvqpuq6vGueRuwdjlrajXwTwHuH2gfZIWFJkD3ewVOB74w5lIW673AHwE/GnMdi3UaMA38fXc56qokTx53UQtVVQ8Af87MmlYPAt+tqpvGW9WSLGTRxpXgd4DPLOeArQb+ipfkKcA/AX9QVf8x7noWKsmrgUNVtXfctSzBauCFwN9U1enAf3HsXk74Cd217i3MfOP6OeDJSd4w3qr6qZnPla+4z5YnuZSZy7MfXc5xWw38B4B1A+213b4VIclPMRP2H62qT4y7nkU6Ezg3yb3MXEp7RZKPjLekBTsIHKyqwz9RXc/MN4CVYhPw9aqarqofAp8AfnXMNS3Fw91ijRxh0cZjVpILgVcDr69lfhCq1cDfA2xIclqSNczcuNo55poWJEmYuYZ8V1W9Z9z1LFZVvbOq1lbVemb+3T9XVStilllVDwH3J3lOt+ss4M4xlrRY3wBenORJ3fvoLFbQTecBhxdthLkXbTwmJdnMzOXMc8fxi6CaDPzupsklwI3MvOGvq6p9461qwc4E3sjMzPj27utV4y6qIW8GPprkDuAFwJ+Ot5yF634yuR74IvBlZv7/H9PLFCT5GHAr8JwkB5NcxByLNh5r5qj9fcBTgZu7/7t/u6w1ubSCJLWhyRm+JLXIwJekRhj4ktQIA1+SGmHgS1IjDHxJaoSBL0mN+F+TJX8CKMPpJQAAAABJRU5ErkJggg==",
       "datasetInfos": [],
       "metadata": {
        "imageDimensions": {
         "height": 248,
         "width": 380
        }
       },
       "removedWidgets": [],
       "type": "image"
      },
      "image/png": {
       "height": 248,
       "width": 380
      }
     },
     "output_type": "display_data"
    }
   ],
   "source": [
    "#coefficients/feature importance\n",
    "#rf lack of directionality...\n",
    "#plot a bar chart...\n",
    "from matplotlib import pyplot\n",
    "# logistic regression for feature importance\n",
    "# get importance\n",
    "importance = lr.coef_[0]\n",
    "\n",
    "# summarize feature importance\n",
    "for i,v in enumerate(importance):\n",
    " print('Feature: %0d, Score: %.5f' % (i,v))\n",
    "\n",
    "# plot feature importance\n",
    "pyplot.bar([x for x in range(len(importance))], importance)\n",
    "pyplot.show()\n",
    "#Notice the coeffecients are both positive and negative. Positive indicates a feature that predicts class 1, and negative scores indicate a feature that predicts class 0. \n",
    "#According to these results, features 1,3,9 and 11 have a posstiive effect on the predicted outcome. "
   ]
  },
  {
   "cell_type": "code",
   "execution_count": 0,
   "metadata": {
    "application/vnd.databricks.v1+cell": {
     "cellMetadata": {
      "byteLimit": 2048000,
      "rowLimit": 10000
     },
     "inputWidgets": {},
     "nuid": "7825fcc1-ef39-42ac-80e5-36904a8e7443",
     "showTitle": false,
     "title": ""
    }
   },
   "outputs": [
    {
     "output_type": "display_data",
     "data": {
      "text/html": [
       "<style scoped>\n",
       "  .ansiout {\n",
       "    display: block;\n",
       "    unicode-bidi: embed;\n",
       "    white-space: pre-wrap;\n",
       "    word-wrap: break-word;\n",
       "    word-break: break-all;\n",
       "    font-family: \"Source Code Pro\", \"Menlo\", monospace;;\n",
       "    font-size: 13px;\n",
       "    color: #555;\n",
       "    margin-left: 4px;\n",
       "    line-height: 19px;\n",
       "  }\n",
       "</style>\n",
       "<div class=\"ansiout\">Feature: 0, Score: 0.14414\n",
       "Feature: 1, Score: 0.23759\n",
       "Feature: 2, Score: 0.08342\n",
       "Feature: 3, Score: 0.14253\n",
       "Feature: 4, Score: 0.12375\n",
       "Feature: 5, Score: 0.01803\n",
       "Feature: 6, Score: 0.04186\n",
       "Feature: 7, Score: 0.14654\n",
       "Feature: 8, Score: 0.00997\n",
       "Feature: 9, Score: 0.02339\n",
       "Feature: 10, Score: 0.00930\n",
       "Feature: 11, Score: 0.00993\n",
       "Feature: 12, Score: 0.00954\n",
       "</div>"
      ]
     },
     "metadata": {
      "application/vnd.databricks.v1+output": {
       "addedWidgets": {},
       "arguments": {},
       "data": "<div class=\"ansiout\">Feature: 0, Score: 0.14414\nFeature: 1, Score: 0.23759\nFeature: 2, Score: 0.08342\nFeature: 3, Score: 0.14253\nFeature: 4, Score: 0.12375\nFeature: 5, Score: 0.01803\nFeature: 6, Score: 0.04186\nFeature: 7, Score: 0.14654\nFeature: 8, Score: 0.00997\nFeature: 9, Score: 0.02339\nFeature: 10, Score: 0.00930\nFeature: 11, Score: 0.00993\nFeature: 12, Score: 0.00954\n</div>",
       "datasetInfos": [],
       "metadata": {},
       "removedWidgets": [],
       "type": "html"
      }
     },
     "output_type": "display_data"
    },
    {
     "output_type": "display_data",
     "data": {
      "image/png": "[encoded data removed]"
     },
     "metadata": {
      "application/vnd.databricks.v1+output": {
       "addedWidgets": {},
       "arguments": {},
       "data": "data:image/png;base64,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",
       "datasetInfos": [],
       "metadata": {
        "imageDimensions": {
         "height": 248,
         "width": 378
        }
       },
       "removedWidgets": [],
       "type": "image"
      },
      "image/png": {
       "height": 248,
       "width": 378
      }
     },
     "output_type": "display_data"
    }
   ],
   "source": [
    "#RF coefficients...\n",
    "importance_rf = rf.feature_importances_\n",
    "\n",
    "# summarize feature importance\n",
    "for i,v in enumerate(importance_rf):\n",
    " print('Feature: %0d, Score: %.5f' % (i,v))\n",
    "\n",
    "# plot feature importance\n",
    "pyplot.bar([x for x in range(len(importance_rf))], importance_rf)\n",
    "pyplot.show()"
   ]
  },
  {
   "cell_type": "markdown",
   "metadata": {
    "application/vnd.databricks.v1+cell": {
     "cellMetadata": {
      "byteLimit": 2048000,
      "rowLimit": 10000
     },
     "inputWidgets": {},
     "nuid": "c3cd5c24-3bbf-48e7-be00-57335c231654",
     "showTitle": false,
     "title": ""
    }
   },
   "source": [
    "#Hyperparamater tuning for RF model"
   ]
  },
  {
   "cell_type": "markdown",
   "metadata": {
    "application/vnd.databricks.v1+cell": {
     "cellMetadata": {},
     "inputWidgets": {},
     "nuid": "ec8acd46-bfe3-4cad-9266-78522dcf2aa8",
     "showTitle": false,
     "title": ""
    }
   },
   "source": [
    "Hyperparameter fine tuning is an important step in ML, as it allows you to find the the best hyperparameters for your model. This can be done easily using GridSearchCV and Sklearn"
   ]
  },
  {
   "cell_type": "code",
   "execution_count": 0,
   "metadata": {
    "application/vnd.databricks.v1+cell": {
     "cellMetadata": {
      "byteLimit": 2048000,
      "rowLimit": 10000
     },
     "inputWidgets": {},
     "nuid": "a8300e16-cf21-4605-af65-0abd6c314a73",
     "showTitle": false,
     "title": ""
    }
   },
   "outputs": [
    {
     "output_type": "display_data",
     "data": {
      "text/html": [
       "<style scoped>\n",
       "  .ansiout {\n",
       "    display: block;\n",
       "    unicode-bidi: embed;\n",
       "    white-space: pre-wrap;\n",
       "    word-wrap: break-word;\n",
       "    word-break: break-all;\n",
       "    font-family: \"Source Code Pro\", \"Menlo\", monospace;;\n",
       "    font-size: 13px;\n",
       "    color: #555;\n",
       "    margin-left: 4px;\n",
       "    line-height: 19px;\n",
       "  }\n",
       "</style>\n",
       "<div class=\"ansiout\">RandomForestClassifier(criterion=&#39;entropy&#39;, max_depth=9, max_features=&#39;log2&#39;,\n",
       "                       n_estimators=150)\n",
       "</div>"
      ]
     },
     "metadata": {
      "application/vnd.databricks.v1+output": {
       "addedWidgets": {},
       "arguments": {},
       "data": "<div class=\"ansiout\">RandomForestClassifier(criterion=&#39;entropy&#39;, max_depth=9, max_features=&#39;log2&#39;,\n                       n_estimators=150)\n</div>",
       "datasetInfos": [],
       "metadata": {},
       "removedWidgets": [],
       "type": "html"
      }
     },
     "output_type": "display_data"
    }
   ],
   "source": [
    "#Logisitic regression has a lower performance to the random forest classifier, so will hypertune the parameters of the rf model to get a better accuracy score...\n",
    "from sklearn.model_selection import GridSearchCV\n",
    "#Chosen parameters to fine tune, n_estimators, criterion, max_features, and max_depth \n",
    "\n",
    "param_grid = {\n",
    "    \"n_estimators\": [25,50,100,150],\n",
    "    \"criterion\": [\"gini\", \"entropy\"],\n",
    "    \"max_features\": [\"sqrt\", \"log2\", None],\n",
    "    \"max_depth\": [3,6,9]\n",
    "}\n",
    "\n",
    "grid_search = GridSearchCV(RandomForestClassifier(),\n",
    "                            param_grid= param_grid)\n",
    "\n",
    "grid_search.fit(X_train, y_train)\n",
    "print(grid_search.best_estimator_)"
   ]
  },
  {
   "cell_type": "code",
   "execution_count": 0,
   "metadata": {
    "application/vnd.databricks.v1+cell": {
     "cellMetadata": {
      "byteLimit": 2048000,
      "rowLimit": 10000
     },
     "inputWidgets": {},
     "nuid": "c53a459c-ddd8-4fd9-a4a5-086486fe2d98",
     "showTitle": false,
     "title": ""
    }
   },
   "outputs": [
    {
     "output_type": "display_data",
     "data": {
      "text/html": [
       "<style scoped>\n",
       "  .ansiout {\n",
       "    display: block;\n",
       "    unicode-bidi: embed;\n",
       "    white-space: pre-wrap;\n",
       "    word-wrap: break-word;\n",
       "    word-break: break-all;\n",
       "    font-family: \"Source Code Pro\", \"Menlo\", monospace;;\n",
       "    font-size: 13px;\n",
       "    color: #555;\n",
       "    margin-left: 4px;\n",
       "    line-height: 19px;\n",
       "  }\n",
       "</style>\n",
       "<div class=\"ansiout\"></div>"
      ]
     },
     "metadata": {
      "application/vnd.databricks.v1+output": {
       "addedWidgets": {},
       "arguments": {},
       "data": "<div class=\"ansiout\"></div>",
       "datasetInfos": [],
       "metadata": {},
       "removedWidgets": [],
       "type": "html"
      }
     },
     "output_type": "display_data"
    }
   ],
   "source": [
    "#Now will run the model with the optimal parameters...\n",
    "rf2 = RandomForestClassifier(criterion='entropy', \n",
    "                            max_depth=9, \n",
    "                            max_features='log2',\n",
    "                            n_estimators=150\n",
    "\n",
    ") #n_estimators = 100, max_depth = 10, random_state = 100\n",
    "rf2.fit(X_train, y_train)\n",
    "rf2_y_pred = rf2.predict(X_test)"
   ]
  },
  {
   "cell_type": "code",
   "execution_count": 0,
   "metadata": {
    "application/vnd.databricks.v1+cell": {
     "cellMetadata": {
      "byteLimit": 2048000,
      "rowLimit": 10000
     },
     "inputWidgets": {},
     "nuid": "b9a1075f-40a3-4524-a6a5-2a20ef3d57ff",
     "showTitle": false,
     "title": ""
    }
   },
   "outputs": [
    {
     "output_type": "display_data",
     "data": {
      "text/html": [
       "<style scoped>\n",
       "  .ansiout {\n",
       "    display: block;\n",
       "    unicode-bidi: embed;\n",
       "    white-space: pre-wrap;\n",
       "    word-wrap: break-word;\n",
       "    word-break: break-all;\n",
       "    font-family: \"Source Code Pro\", \"Menlo\", monospace;;\n",
       "    font-size: 13px;\n",
       "    color: #555;\n",
       "    margin-left: 4px;\n",
       "    line-height: 19px;\n",
       "  }\n",
       "</style>\n",
       "<div class=\"ansiout\">Confusion matrix:\n",
       "[[1532   46]\n",
       " [ 243  179]]\n",
       "\n",
       "Classification Report\n",
       "              precision    recall  f1-score   support\n",
       "\n",
       "           0       0.86      0.97      0.91      1578\n",
       "           1       0.80      0.42      0.55       422\n",
       "\n",
       "    accuracy                           0.86      2000\n",
       "   macro avg       0.83      0.70      0.73      2000\n",
       "weighted avg       0.85      0.86      0.84      2000\n",
       "\n",
       "\n",
       "Accuracy of Model : 0.8555\n",
       "</div>"
      ]
     },
     "metadata": {
      "application/vnd.databricks.v1+output": {
       "addedWidgets": {},
       "arguments": {},
       "data": "<div class=\"ansiout\">Confusion matrix:\n[[1532   46]\n [ 243  179]]\n\nClassification Report\n              precision    recall  f1-score   support\n\n           0       0.86      0.97      0.91      1578\n           1       0.80      0.42      0.55       422\n\n    accuracy                           0.86      2000\n   macro avg       0.83      0.70      0.73      2000\nweighted avg       0.85      0.86      0.84      2000\n\n\nAccuracy of Model : 0.8555\n</div>",
       "datasetInfos": [],
       "metadata": {},
       "removedWidgets": [],
       "type": "html"
      }
     },
     "output_type": "display_data"
    }
   ],
   "source": [
    "\n",
    "print(\"Confusion matrix:\")\n",
    "print(confusion_matrix(y_test,rf2_y_pred))\n",
    "print()\n",
    "print('Classification Report')\n",
    "print(classification_report(y_test, rf2_y_pred))\n",
    "print()\n",
    "print('Accuracy of Model :',round(accuracy_score(y_test, rf2_y_pred),4))\n",
    "#hypertuning the parameters did not have much of an effect on the accuracy score...its still 86%\n",
    "#but it does correctly identify more true postives...."
   ]
  }
 ],
 "metadata": {
  "application/vnd.databricks.v1+notebook": {
   "dashboards": [],
   "language": "python",
   "notebookMetadata": {
    "pythonIndentUnit": 4
   },
   "notebookName": "Classification-Churn modelling",
   "widgets": {}
  }
 },
 "nbformat": 4,
 "nbformat_minor": 0
}
